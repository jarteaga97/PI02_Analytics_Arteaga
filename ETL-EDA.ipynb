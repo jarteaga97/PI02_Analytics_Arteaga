{
 "cells": [
  {
   "attachments": {},
   "cell_type": "markdown",
   "metadata": {},
   "source": [
    "## Importación de librerías y datos"
   ]
  },
  {
   "cell_type": "code",
   "execution_count": 2,
   "metadata": {},
   "outputs": [],
   "source": [
    "import pandas as pd\n",
    "import numpy as np\n",
    "import matplotlib.pyplot as plt\n",
    "import numpy as np\n",
    "import seaborn as sns\n",
    "from wordcloud import WordCloud, STOPWORDS\n",
    "from dateutil.parser import parse\n",
    "import re\n",
    "from datetime import datetime"
   ]
  },
  {
   "cell_type": "code",
   "execution_count": 3,
   "metadata": {},
   "outputs": [],
   "source": [
    "df_aviones = pd.read_csv('datasets/AccidentesAviones.csv')"
   ]
  },
  {
   "cell_type": "code",
   "execution_count": 4,
   "metadata": {},
   "outputs": [
    {
     "data": {
      "text/html": [
       "<div>\n",
       "<style scoped>\n",
       "    .dataframe tbody tr th:only-of-type {\n",
       "        vertical-align: middle;\n",
       "    }\n",
       "\n",
       "    .dataframe tbody tr th {\n",
       "        vertical-align: top;\n",
       "    }\n",
       "\n",
       "    .dataframe thead th {\n",
       "        text-align: right;\n",
       "    }\n",
       "</style>\n",
       "<table border=\"1\" class=\"dataframe\">\n",
       "  <thead>\n",
       "    <tr style=\"text-align: right;\">\n",
       "      <th></th>\n",
       "      <th>Unnamed: 0</th>\n",
       "      <th>fecha</th>\n",
       "      <th>HORA declarada</th>\n",
       "      <th>Ruta</th>\n",
       "      <th>OperadOR</th>\n",
       "      <th>flight_no</th>\n",
       "      <th>route</th>\n",
       "      <th>ac_type</th>\n",
       "      <th>registration</th>\n",
       "      <th>cn_ln</th>\n",
       "      <th>all_aboard</th>\n",
       "      <th>PASAJEROS A BORDO</th>\n",
       "      <th>crew_aboard</th>\n",
       "      <th>cantidad de fallecidos</th>\n",
       "      <th>passenger_fatalities</th>\n",
       "      <th>crew_fatalities</th>\n",
       "      <th>ground</th>\n",
       "      <th>summary</th>\n",
       "    </tr>\n",
       "  </thead>\n",
       "  <tbody>\n",
       "    <tr>\n",
       "      <th>0</th>\n",
       "      <td>0</td>\n",
       "      <td>September 17, 1908</td>\n",
       "      <td>1718</td>\n",
       "      <td>Fort Myer, Virginia</td>\n",
       "      <td>Military - U.S. Army</td>\n",
       "      <td>?</td>\n",
       "      <td>Demonstration</td>\n",
       "      <td>Wright Flyer III</td>\n",
       "      <td>?</td>\n",
       "      <td>1</td>\n",
       "      <td>2</td>\n",
       "      <td>1</td>\n",
       "      <td>1</td>\n",
       "      <td>1</td>\n",
       "      <td>1</td>\n",
       "      <td>0</td>\n",
       "      <td>0</td>\n",
       "      <td>During a demonstration flight, a U.S. Army fly...</td>\n",
       "    </tr>\n",
       "    <tr>\n",
       "      <th>1</th>\n",
       "      <td>1</td>\n",
       "      <td>September 07, 1909</td>\n",
       "      <td>?</td>\n",
       "      <td>Juvisy-sur-Orge, France</td>\n",
       "      <td>?</td>\n",
       "      <td>?</td>\n",
       "      <td>Air show</td>\n",
       "      <td>Wright Byplane</td>\n",
       "      <td>SC1</td>\n",
       "      <td>?</td>\n",
       "      <td>1</td>\n",
       "      <td>0</td>\n",
       "      <td>1</td>\n",
       "      <td>1</td>\n",
       "      <td>0</td>\n",
       "      <td>0</td>\n",
       "      <td>0</td>\n",
       "      <td>Eugene Lefebvre was the first pilot to ever be...</td>\n",
       "    </tr>\n",
       "    <tr>\n",
       "      <th>2</th>\n",
       "      <td>2</td>\n",
       "      <td>July 12, 1912</td>\n",
       "      <td>0630</td>\n",
       "      <td>Atlantic City, New Jersey</td>\n",
       "      <td>Military - U.S. Navy</td>\n",
       "      <td>?</td>\n",
       "      <td>Test flight</td>\n",
       "      <td>Dirigible</td>\n",
       "      <td>?</td>\n",
       "      <td>?</td>\n",
       "      <td>5</td>\n",
       "      <td>0</td>\n",
       "      <td>5</td>\n",
       "      <td>5</td>\n",
       "      <td>0</td>\n",
       "      <td>5</td>\n",
       "      <td>0</td>\n",
       "      <td>First U.S. dirigible Akron exploded just offsh...</td>\n",
       "    </tr>\n",
       "    <tr>\n",
       "      <th>3</th>\n",
       "      <td>3</td>\n",
       "      <td>August 06, 1913</td>\n",
       "      <td>?</td>\n",
       "      <td>Victoria, British Columbia, Canada</td>\n",
       "      <td>Private</td>\n",
       "      <td>?</td>\n",
       "      <td>?</td>\n",
       "      <td>Curtiss seaplane</td>\n",
       "      <td>?</td>\n",
       "      <td>?</td>\n",
       "      <td>1</td>\n",
       "      <td>0</td>\n",
       "      <td>1</td>\n",
       "      <td>1</td>\n",
       "      <td>0</td>\n",
       "      <td>1</td>\n",
       "      <td>0</td>\n",
       "      <td>The first fatal airplane accident in Canada oc...</td>\n",
       "    </tr>\n",
       "    <tr>\n",
       "      <th>4</th>\n",
       "      <td>4</td>\n",
       "      <td>September 09, 1913</td>\n",
       "      <td>1830</td>\n",
       "      <td>Over the North Sea</td>\n",
       "      <td>Military - German Navy</td>\n",
       "      <td>?</td>\n",
       "      <td>?</td>\n",
       "      <td>Zeppelin L-1 (airship)</td>\n",
       "      <td>?</td>\n",
       "      <td>?</td>\n",
       "      <td>20</td>\n",
       "      <td>?</td>\n",
       "      <td>?</td>\n",
       "      <td>14</td>\n",
       "      <td>?</td>\n",
       "      <td>?</td>\n",
       "      <td>0</td>\n",
       "      <td>The airship flew into a thunderstorm and encou...</td>\n",
       "    </tr>\n",
       "    <tr>\n",
       "      <th>5</th>\n",
       "      <td>5</td>\n",
       "      <td>October 17, 1913</td>\n",
       "      <td>1030</td>\n",
       "      <td>Near Johannisthal, Germany</td>\n",
       "      <td>Military - German Navy</td>\n",
       "      <td>?</td>\n",
       "      <td>?</td>\n",
       "      <td>Zeppelin L-2 (airship)</td>\n",
       "      <td>?</td>\n",
       "      <td>?</td>\n",
       "      <td>28</td>\n",
       "      <td>?</td>\n",
       "      <td>?</td>\n",
       "      <td>28</td>\n",
       "      <td>?</td>\n",
       "      <td>?</td>\n",
       "      <td>0</td>\n",
       "      <td>Hydrogen gas which was being vented was sucked...</td>\n",
       "    </tr>\n",
       "    <tr>\n",
       "      <th>6</th>\n",
       "      <td>6</td>\n",
       "      <td>March 05, 1915</td>\n",
       "      <td>0100</td>\n",
       "      <td>Tienen, Belgium</td>\n",
       "      <td>Military - German Navy</td>\n",
       "      <td>?</td>\n",
       "      <td>?</td>\n",
       "      <td>Zeppelin L-8 (airship)</td>\n",
       "      <td>?</td>\n",
       "      <td>?</td>\n",
       "      <td>41</td>\n",
       "      <td>0</td>\n",
       "      <td>41</td>\n",
       "      <td>17</td>\n",
       "      <td>0</td>\n",
       "      <td>17</td>\n",
       "      <td>0</td>\n",
       "      <td>Crashed into trees while attempting to land af...</td>\n",
       "    </tr>\n",
       "    <tr>\n",
       "      <th>7</th>\n",
       "      <td>7</td>\n",
       "      <td>September 03, 1915</td>\n",
       "      <td>1520</td>\n",
       "      <td>Off Cuxhaven, Germany</td>\n",
       "      <td>Military - German Navy</td>\n",
       "      <td>?</td>\n",
       "      <td>?</td>\n",
       "      <td>Zeppelin L-10 (airship)</td>\n",
       "      <td>?</td>\n",
       "      <td>?</td>\n",
       "      <td>19</td>\n",
       "      <td>?</td>\n",
       "      <td>?</td>\n",
       "      <td>19</td>\n",
       "      <td>?</td>\n",
       "      <td>?</td>\n",
       "      <td>0</td>\n",
       "      <td>Exploded and burned near Neuwerk Island,  when...</td>\n",
       "    </tr>\n",
       "    <tr>\n",
       "      <th>8</th>\n",
       "      <td>8</td>\n",
       "      <td>July 28, 1916</td>\n",
       "      <td>?</td>\n",
       "      <td>Near Jambol, Bulgeria</td>\n",
       "      <td>Military - German Army</td>\n",
       "      <td>?</td>\n",
       "      <td>?</td>\n",
       "      <td>Schutte-Lanz S-L-10 (airship)</td>\n",
       "      <td>?</td>\n",
       "      <td>?</td>\n",
       "      <td>20</td>\n",
       "      <td>?</td>\n",
       "      <td>?</td>\n",
       "      <td>20</td>\n",
       "      <td>?</td>\n",
       "      <td>?</td>\n",
       "      <td>0</td>\n",
       "      <td>Crashed near the Black Sea, cause unknown.</td>\n",
       "    </tr>\n",
       "    <tr>\n",
       "      <th>9</th>\n",
       "      <td>9</td>\n",
       "      <td>September 24, 1916</td>\n",
       "      <td>0100</td>\n",
       "      <td>Billericay, England</td>\n",
       "      <td>Military - German Navy</td>\n",
       "      <td>?</td>\n",
       "      <td>?</td>\n",
       "      <td>Zeppelin L-32 (airship)</td>\n",
       "      <td>?</td>\n",
       "      <td>?</td>\n",
       "      <td>22</td>\n",
       "      <td>?</td>\n",
       "      <td>?</td>\n",
       "      <td>22</td>\n",
       "      <td>?</td>\n",
       "      <td>?</td>\n",
       "      <td>0</td>\n",
       "      <td>Shot down by British aircraft crashing in flames.</td>\n",
       "    </tr>\n",
       "  </tbody>\n",
       "</table>\n",
       "</div>"
      ],
      "text/plain": [
       "   Unnamed: 0               fecha HORA declarada  \\\n",
       "0           0  September 17, 1908           1718   \n",
       "1           1  September 07, 1909              ?   \n",
       "2           2       July 12, 1912           0630   \n",
       "3           3     August 06, 1913              ?   \n",
       "4           4  September 09, 1913           1830   \n",
       "5           5    October 17, 1913           1030   \n",
       "6           6      March 05, 1915           0100   \n",
       "7           7  September 03, 1915           1520   \n",
       "8           8       July 28, 1916              ?   \n",
       "9           9  September 24, 1916           0100   \n",
       "\n",
       "                                 Ruta                OperadOR flight_no  \\\n",
       "0                 Fort Myer, Virginia    Military - U.S. Army         ?   \n",
       "1             Juvisy-sur-Orge, France                       ?         ?   \n",
       "2           Atlantic City, New Jersey    Military - U.S. Navy         ?   \n",
       "3  Victoria, British Columbia, Canada                 Private         ?   \n",
       "4                  Over the North Sea  Military - German Navy         ?   \n",
       "5          Near Johannisthal, Germany  Military - German Navy         ?   \n",
       "6                     Tienen, Belgium  Military - German Navy         ?   \n",
       "7               Off Cuxhaven, Germany  Military - German Navy         ?   \n",
       "8               Near Jambol, Bulgeria  Military - German Army         ?   \n",
       "9                 Billericay, England  Military - German Navy         ?   \n",
       "\n",
       "           route                        ac_type registration cn_ln all_aboard  \\\n",
       "0  Demonstration               Wright Flyer III            ?     1          2   \n",
       "1       Air show                 Wright Byplane          SC1     ?          1   \n",
       "2    Test flight                      Dirigible            ?     ?          5   \n",
       "3              ?               Curtiss seaplane            ?     ?          1   \n",
       "4              ?         Zeppelin L-1 (airship)            ?     ?         20   \n",
       "5              ?         Zeppelin L-2 (airship)            ?     ?         28   \n",
       "6              ?         Zeppelin L-8 (airship)            ?     ?         41   \n",
       "7              ?        Zeppelin L-10 (airship)            ?     ?         19   \n",
       "8              ?  Schutte-Lanz S-L-10 (airship)            ?     ?         20   \n",
       "9              ?        Zeppelin L-32 (airship)            ?     ?         22   \n",
       "\n",
       "  PASAJEROS A BORDO crew_aboard cantidad de fallecidos passenger_fatalities  \\\n",
       "0                 1           1                      1                    1   \n",
       "1                 0           1                      1                    0   \n",
       "2                 0           5                      5                    0   \n",
       "3                 0           1                      1                    0   \n",
       "4                 ?           ?                     14                    ?   \n",
       "5                 ?           ?                     28                    ?   \n",
       "6                 0          41                     17                    0   \n",
       "7                 ?           ?                     19                    ?   \n",
       "8                 ?           ?                     20                    ?   \n",
       "9                 ?           ?                     22                    ?   \n",
       "\n",
       "  crew_fatalities ground                                            summary  \n",
       "0               0      0  During a demonstration flight, a U.S. Army fly...  \n",
       "1               0      0  Eugene Lefebvre was the first pilot to ever be...  \n",
       "2               5      0  First U.S. dirigible Akron exploded just offsh...  \n",
       "3               1      0  The first fatal airplane accident in Canada oc...  \n",
       "4               ?      0  The airship flew into a thunderstorm and encou...  \n",
       "5               ?      0  Hydrogen gas which was being vented was sucked...  \n",
       "6              17      0  Crashed into trees while attempting to land af...  \n",
       "7               ?      0  Exploded and burned near Neuwerk Island,  when...  \n",
       "8               ?      0         Crashed near the Black Sea, cause unknown.  \n",
       "9               ?      0  Shot down by British aircraft crashing in flames.  "
      ]
     },
     "execution_count": 4,
     "metadata": {},
     "output_type": "execute_result"
    }
   ],
   "source": [
    "df_aviones.head(10)"
   ]
  },
  {
   "attachments": {},
   "cell_type": "markdown",
   "metadata": {},
   "source": [
    "## Exploración y limpieza de datos"
   ]
  },
  {
   "cell_type": "code",
   "execution_count": 5,
   "metadata": {},
   "outputs": [
    {
     "data": {
      "text/plain": [
       "(5008, 18)"
      ]
     },
     "execution_count": 5,
     "metadata": {},
     "output_type": "execute_result"
    }
   ],
   "source": [
    "df_aviones.shape"
   ]
  },
  {
   "cell_type": "code",
   "execution_count": 6,
   "metadata": {},
   "outputs": [
    {
     "data": {
      "text/plain": [
       "Index(['Unnamed: 0', 'fecha', 'HORA declarada', 'Ruta', 'OperadOR',\n",
       "       'flight_no', 'route', 'ac_type', 'registration', 'cn_ln', 'all_aboard',\n",
       "       'PASAJEROS A BORDO', 'crew_aboard', 'cantidad de fallecidos',\n",
       "       'passenger_fatalities', 'crew_fatalities', 'ground', 'summary'],\n",
       "      dtype='object')"
      ]
     },
     "execution_count": 6,
     "metadata": {},
     "output_type": "execute_result"
    }
   ],
   "source": [
    "df_aviones.columns"
   ]
  },
  {
   "cell_type": "code",
   "execution_count": 7,
   "metadata": {},
   "outputs": [],
   "source": [
    "#Eliminar la columna 'Unnamed: 0', no aporta información relevante\n",
    "df_aviones=df_aviones.drop('Unnamed: 0', axis=1)"
   ]
  },
  {
   "attachments": {},
   "cell_type": "markdown",
   "metadata": {},
   "source": [
    "Pasar a formato minúscula todas las columnas"
   ]
  },
  {
   "cell_type": "code",
   "execution_count": 8,
   "metadata": {},
   "outputs": [],
   "source": [
    "df_aviones.columns = df_aviones.columns.str.lower()"
   ]
  },
  {
   "cell_type": "code",
   "execution_count": 9,
   "metadata": {},
   "outputs": [
    {
     "data": {
      "text/plain": [
       "Index(['fecha', 'hora declarada', 'ruta', 'operador', 'flight_no', 'route',\n",
       "       'ac_type', 'registration', 'cn_ln', 'all_aboard', 'pasajeros a bordo',\n",
       "       'crew_aboard', 'cantidad de fallecidos', 'passenger_fatalities',\n",
       "       'crew_fatalities', 'ground', 'summary'],\n",
       "      dtype='object')"
      ]
     },
     "execution_count": 9,
     "metadata": {},
     "output_type": "execute_result"
    }
   ],
   "source": [
    "df_aviones.columns"
   ]
  },
  {
   "attachments": {},
   "cell_type": "markdown",
   "metadata": {},
   "source": [
    "Renombrar a las columnas previo análisis"
   ]
  },
  {
   "cell_type": "code",
   "execution_count": 10,
   "metadata": {},
   "outputs": [],
   "source": [
    "df_aviones = df_aviones.rename(columns={'ruta': 'lugar_impacto', 'flight_no': 'numero_de_vuelo', 'route':'ruta', 'ac_type':'aeronave',\n",
    "                                         'registration':'registro', 'cn_ln':'serie_o_fuselaje', 'all_aboard':'personas_a_bordo',\n",
    "                                           'pasajeros a bordo':'pasajeros','crew_aboard':'tripulacion','cantidad de fallecidos':'cantidad_fallecidos',\n",
    "                                           'passenger_fatalities':'pasajeros_fallecidos','crew_fatalities':'tripulacion_fallecida',\n",
    "                                           'ground':'personas_no_a_bordo_fallecidas','summary':'resumen','hora declarada':'hora_declarada'})"
   ]
  },
  {
   "cell_type": "code",
   "execution_count": 11,
   "metadata": {},
   "outputs": [
    {
     "data": {
      "text/plain": [
       "Index(['fecha', 'hora_declarada', 'lugar_impacto', 'operador',\n",
       "       'numero_de_vuelo', 'ruta', 'aeronave', 'registro', 'serie_o_fuselaje',\n",
       "       'personas_a_bordo', 'pasajeros', 'tripulacion', 'cantidad_fallecidos',\n",
       "       'pasajeros_fallecidos', 'tripulacion_fallecida',\n",
       "       'personas_no_a_bordo_fallecidas', 'resumen'],\n",
       "      dtype='object')"
      ]
     },
     "execution_count": 11,
     "metadata": {},
     "output_type": "execute_result"
    }
   ],
   "source": [
    "df_aviones.columns"
   ]
  },
  {
   "cell_type": "code",
   "execution_count": 12,
   "metadata": {},
   "outputs": [
    {
     "name": "stdout",
     "output_type": "stream",
     "text": [
      "<class 'pandas.core.frame.DataFrame'>\n",
      "RangeIndex: 5008 entries, 0 to 5007\n",
      "Data columns (total 17 columns):\n",
      " #   Column                          Non-Null Count  Dtype \n",
      "---  ------                          --------------  ----- \n",
      " 0   fecha                           5008 non-null   object\n",
      " 1   hora_declarada                  5008 non-null   object\n",
      " 2   lugar_impacto                   5008 non-null   object\n",
      " 3   operador                        5008 non-null   object\n",
      " 4   numero_de_vuelo                 5008 non-null   object\n",
      " 5   ruta                            5008 non-null   object\n",
      " 6   aeronave                        5008 non-null   object\n",
      " 7   registro                        5008 non-null   object\n",
      " 8   serie_o_fuselaje                5008 non-null   object\n",
      " 9   personas_a_bordo                5008 non-null   object\n",
      " 10  pasajeros                       5008 non-null   object\n",
      " 11  tripulacion                     5008 non-null   object\n",
      " 12  cantidad_fallecidos             5008 non-null   object\n",
      " 13  pasajeros_fallecidos            5008 non-null   object\n",
      " 14  tripulacion_fallecida           5008 non-null   object\n",
      " 15  personas_no_a_bordo_fallecidas  5008 non-null   object\n",
      " 16  resumen                         5008 non-null   object\n",
      "dtypes: object(17)\n",
      "memory usage: 665.2+ KB\n"
     ]
    }
   ],
   "source": [
    "#Observar el dataframe\n",
    "df_aviones.info()"
   ]
  },
  {
   "cell_type": "code",
   "execution_count": 13,
   "metadata": {},
   "outputs": [
    {
     "data": {
      "text/plain": [
       "fecha                             0\n",
       "hora_declarada                    0\n",
       "lugar_impacto                     0\n",
       "operador                          0\n",
       "numero_de_vuelo                   0\n",
       "ruta                              0\n",
       "aeronave                          0\n",
       "registro                          0\n",
       "serie_o_fuselaje                  0\n",
       "personas_a_bordo                  0\n",
       "pasajeros                         0\n",
       "tripulacion                       0\n",
       "cantidad_fallecidos               0\n",
       "pasajeros_fallecidos              0\n",
       "tripulacion_fallecida             0\n",
       "personas_no_a_bordo_fallecidas    0\n",
       "resumen                           0\n",
       "dtype: int64"
      ]
     },
     "execution_count": 13,
     "metadata": {},
     "output_type": "execute_result"
    }
   ],
   "source": [
    "#Observar nulos\n",
    "df_aviones.isnull().sum()"
   ]
  },
  {
   "cell_type": "code",
   "execution_count": 14,
   "metadata": {},
   "outputs": [
    {
     "data": {
      "text/plain": [
       "0"
      ]
     },
     "execution_count": 14,
     "metadata": {},
     "output_type": "execute_result"
    }
   ],
   "source": [
    "#Observar duplicados\n",
    "df_aviones.duplicated().sum()"
   ]
  },
  {
   "attachments": {},
   "cell_type": "markdown",
   "metadata": {},
   "source": [
    "Luego de observar la data, vemos que posee un caracter frecuente, el cual es '?'; analizar su grado de participación y tomar desiciones\n"
   ]
  },
  {
   "cell_type": "code",
   "execution_count": 15,
   "metadata": {},
   "outputs": [
    {
     "data": {
      "text/plain": [
       "7953"
      ]
     },
     "execution_count": 15,
     "metadata": {},
     "output_type": "execute_result"
    }
   ],
   "source": [
    "#Cantidad de '?' en todas las columnas\n",
    "count = df_aviones.apply(lambda x: x.value_counts().get('?', 0)).sum()\n",
    "count"
   ]
  },
  {
   "cell_type": "code",
   "execution_count": 16,
   "metadata": {},
   "outputs": [
    {
     "data": {
      "text/html": [
       "<div>\n",
       "<style scoped>\n",
       "    .dataframe tbody tr th:only-of-type {\n",
       "        vertical-align: middle;\n",
       "    }\n",
       "\n",
       "    .dataframe tbody tr th {\n",
       "        vertical-align: top;\n",
       "    }\n",
       "\n",
       "    .dataframe thead th {\n",
       "        text-align: right;\n",
       "    }\n",
       "</style>\n",
       "<table border=\"1\" class=\"dataframe\">\n",
       "  <thead>\n",
       "    <tr style=\"text-align: right;\">\n",
       "      <th></th>\n",
       "      <th>columna</th>\n",
       "      <th>cant_?</th>\n",
       "    </tr>\n",
       "  </thead>\n",
       "  <tbody>\n",
       "    <tr>\n",
       "      <th>0</th>\n",
       "      <td>fecha</td>\n",
       "      <td>0</td>\n",
       "    </tr>\n",
       "    <tr>\n",
       "      <th>1</th>\n",
       "      <td>hora_declarada</td>\n",
       "      <td>1504</td>\n",
       "    </tr>\n",
       "    <tr>\n",
       "      <th>2</th>\n",
       "      <td>lugar_impacto</td>\n",
       "      <td>5</td>\n",
       "    </tr>\n",
       "    <tr>\n",
       "      <th>3</th>\n",
       "      <td>operador</td>\n",
       "      <td>10</td>\n",
       "    </tr>\n",
       "    <tr>\n",
       "      <th>4</th>\n",
       "      <td>numero_de_vuelo</td>\n",
       "      <td>3682</td>\n",
       "    </tr>\n",
       "    <tr>\n",
       "      <th>5</th>\n",
       "      <td>ruta</td>\n",
       "      <td>762</td>\n",
       "    </tr>\n",
       "    <tr>\n",
       "      <th>6</th>\n",
       "      <td>aeronave</td>\n",
       "      <td>13</td>\n",
       "    </tr>\n",
       "    <tr>\n",
       "      <th>7</th>\n",
       "      <td>registro</td>\n",
       "      <td>272</td>\n",
       "    </tr>\n",
       "    <tr>\n",
       "      <th>8</th>\n",
       "      <td>serie_o_fuselaje</td>\n",
       "      <td>667</td>\n",
       "    </tr>\n",
       "    <tr>\n",
       "      <th>9</th>\n",
       "      <td>personas_a_bordo</td>\n",
       "      <td>17</td>\n",
       "    </tr>\n",
       "    <tr>\n",
       "      <th>10</th>\n",
       "      <td>pasajeros</td>\n",
       "      <td>221</td>\n",
       "    </tr>\n",
       "    <tr>\n",
       "      <th>11</th>\n",
       "      <td>tripulacion</td>\n",
       "      <td>219</td>\n",
       "    </tr>\n",
       "    <tr>\n",
       "      <th>12</th>\n",
       "      <td>cantidad_fallecidos</td>\n",
       "      <td>8</td>\n",
       "    </tr>\n",
       "    <tr>\n",
       "      <th>13</th>\n",
       "      <td>pasajeros_fallecidos</td>\n",
       "      <td>235</td>\n",
       "    </tr>\n",
       "    <tr>\n",
       "      <th>14</th>\n",
       "      <td>tripulacion_fallecida</td>\n",
       "      <td>235</td>\n",
       "    </tr>\n",
       "    <tr>\n",
       "      <th>15</th>\n",
       "      <td>personas_no_a_bordo_fallecidas</td>\n",
       "      <td>44</td>\n",
       "    </tr>\n",
       "    <tr>\n",
       "      <th>16</th>\n",
       "      <td>resumen</td>\n",
       "      <td>59</td>\n",
       "    </tr>\n",
       "  </tbody>\n",
       "</table>\n",
       "</div>"
      ],
      "text/plain": [
       "                           columna  cant_?\n",
       "0                            fecha       0\n",
       "1                   hora_declarada    1504\n",
       "2                    lugar_impacto       5\n",
       "3                         operador      10\n",
       "4                  numero_de_vuelo    3682\n",
       "5                             ruta     762\n",
       "6                         aeronave      13\n",
       "7                         registro     272\n",
       "8                 serie_o_fuselaje     667\n",
       "9                 personas_a_bordo      17\n",
       "10                       pasajeros     221\n",
       "11                     tripulacion     219\n",
       "12             cantidad_fallecidos       8\n",
       "13            pasajeros_fallecidos     235\n",
       "14           tripulacion_fallecida     235\n",
       "15  personas_no_a_bordo_fallecidas      44\n",
       "16                         resumen      59"
      ]
     },
     "execution_count": 16,
     "metadata": {},
     "output_type": "execute_result"
    }
   ],
   "source": [
    "# contar las apariciones del elemento '?' en cada columna del DataFrame y generar\n",
    "# un nuevo dataframe llamado 'df' para visualiar mejor\n",
    "elemento = '?'\n",
    "counts_por_columna = {}\n",
    "\n",
    "for columna in df_aviones.columns:\n",
    "    counts = df_aviones[columna].value_counts()\n",
    "    counts_por_columna[columna] = counts.get(elemento, 0)\n",
    "\n",
    "\n",
    "data = {'columna':list(counts_por_columna.keys()), 'cant_?' : list(counts_por_columna.values())}\n",
    "df =pd.DataFrame(data)\n",
    "df"
   ]
  },
  {
   "cell_type": "code",
   "execution_count": 17,
   "metadata": {},
   "outputs": [
    {
     "name": "stdout",
     "output_type": "stream",
     "text": [
      "0       17:18\n",
      "1           ?\n",
      "2       06:30\n",
      "3           ?\n",
      "4       18:30\n",
      "        ...  \n",
      "5003    18:35\n",
      "5004    18:00\n",
      "5005    08:00\n",
      "5006    11:30\n",
      "5007    15:00\n",
      "Name: hora_declarada, Length: 5008, dtype: object\n"
     ]
    }
   ],
   "source": [
    "#Adecuar al formato de 24 horas la columna 'hora_declarada'\n",
    "def convert_to_24h(time_str):\n",
    "    if time_str == '?':\n",
    "        return time_str\n",
    "\n",
    "    numbers = ''.join(filter(str.isdigit, time_str))\n",
    "    if len(numbers) == 4:\n",
    "        hour = numbers[:2]\n",
    "        minute = numbers[2:]\n",
    "        if int(hour) >= 24 or int(minute) >= 60:\n",
    "            return time_str\n",
    "        return f\"{hour.zfill(2)}:{minute.zfill(2)}\"\n",
    "\n",
    "    try:\n",
    "        parsed_time = datetime.strptime(time_str, '%H:%M')\n",
    "        return parsed_time.strftime('%H:%M')\n",
    "    except ValueError:\n",
    "        return time_str\n",
    "\n",
    "# Aplicar la función a la columna 'Hora_Declarada'\n",
    "df_aviones['hora_declarada'] = df_aviones['hora_declarada'].apply(convert_to_24h)\n",
    "\n",
    "\n",
    "# Imprimir el dataframe resultante\n",
    "print(df_aviones['hora_declarada'])"
   ]
  },
  {
   "cell_type": "code",
   "execution_count": 18,
   "metadata": {},
   "outputs": [
    {
     "data": {
      "text/html": [
       "<div>\n",
       "<style scoped>\n",
       "    .dataframe tbody tr th:only-of-type {\n",
       "        vertical-align: middle;\n",
       "    }\n",
       "\n",
       "    .dataframe tbody tr th {\n",
       "        vertical-align: top;\n",
       "    }\n",
       "\n",
       "    .dataframe thead th {\n",
       "        text-align: right;\n",
       "    }\n",
       "</style>\n",
       "<table border=\"1\" class=\"dataframe\">\n",
       "  <thead>\n",
       "    <tr style=\"text-align: right;\">\n",
       "      <th></th>\n",
       "      <th>fecha</th>\n",
       "      <th>hora_declarada</th>\n",
       "      <th>lugar_impacto</th>\n",
       "      <th>operador</th>\n",
       "      <th>numero_de_vuelo</th>\n",
       "      <th>ruta</th>\n",
       "      <th>aeronave</th>\n",
       "      <th>registro</th>\n",
       "      <th>serie_o_fuselaje</th>\n",
       "      <th>personas_a_bordo</th>\n",
       "      <th>pasajeros</th>\n",
       "      <th>tripulacion</th>\n",
       "      <th>cantidad_fallecidos</th>\n",
       "      <th>pasajeros_fallecidos</th>\n",
       "      <th>tripulacion_fallecida</th>\n",
       "      <th>personas_no_a_bordo_fallecidas</th>\n",
       "      <th>resumen</th>\n",
       "    </tr>\n",
       "  </thead>\n",
       "  <tbody>\n",
       "    <tr>\n",
       "      <th>0</th>\n",
       "      <td>September 17, 1908</td>\n",
       "      <td>17:18</td>\n",
       "      <td>Fort Myer, Virginia</td>\n",
       "      <td>Military - U.S. Army</td>\n",
       "      <td>?</td>\n",
       "      <td>Demonstration</td>\n",
       "      <td>Wright Flyer III</td>\n",
       "      <td>?</td>\n",
       "      <td>1</td>\n",
       "      <td>2</td>\n",
       "      <td>1</td>\n",
       "      <td>1</td>\n",
       "      <td>1</td>\n",
       "      <td>1</td>\n",
       "      <td>0</td>\n",
       "      <td>0</td>\n",
       "      <td>During a demonstration flight, a U.S. Army fly...</td>\n",
       "    </tr>\n",
       "    <tr>\n",
       "      <th>1</th>\n",
       "      <td>September 07, 1909</td>\n",
       "      <td>?</td>\n",
       "      <td>Juvisy-sur-Orge, France</td>\n",
       "      <td>?</td>\n",
       "      <td>?</td>\n",
       "      <td>Air show</td>\n",
       "      <td>Wright Byplane</td>\n",
       "      <td>SC1</td>\n",
       "      <td>?</td>\n",
       "      <td>1</td>\n",
       "      <td>0</td>\n",
       "      <td>1</td>\n",
       "      <td>1</td>\n",
       "      <td>0</td>\n",
       "      <td>0</td>\n",
       "      <td>0</td>\n",
       "      <td>Eugene Lefebvre was the first pilot to ever be...</td>\n",
       "    </tr>\n",
       "    <tr>\n",
       "      <th>2</th>\n",
       "      <td>July 12, 1912</td>\n",
       "      <td>06:30</td>\n",
       "      <td>Atlantic City, New Jersey</td>\n",
       "      <td>Military - U.S. Navy</td>\n",
       "      <td>?</td>\n",
       "      <td>Test flight</td>\n",
       "      <td>Dirigible</td>\n",
       "      <td>?</td>\n",
       "      <td>?</td>\n",
       "      <td>5</td>\n",
       "      <td>0</td>\n",
       "      <td>5</td>\n",
       "      <td>5</td>\n",
       "      <td>0</td>\n",
       "      <td>5</td>\n",
       "      <td>0</td>\n",
       "      <td>First U.S. dirigible Akron exploded just offsh...</td>\n",
       "    </tr>\n",
       "    <tr>\n",
       "      <th>3</th>\n",
       "      <td>August 06, 1913</td>\n",
       "      <td>?</td>\n",
       "      <td>Victoria, British Columbia, Canada</td>\n",
       "      <td>Private</td>\n",
       "      <td>?</td>\n",
       "      <td>?</td>\n",
       "      <td>Curtiss seaplane</td>\n",
       "      <td>?</td>\n",
       "      <td>?</td>\n",
       "      <td>1</td>\n",
       "      <td>0</td>\n",
       "      <td>1</td>\n",
       "      <td>1</td>\n",
       "      <td>0</td>\n",
       "      <td>1</td>\n",
       "      <td>0</td>\n",
       "      <td>The first fatal airplane accident in Canada oc...</td>\n",
       "    </tr>\n",
       "    <tr>\n",
       "      <th>4</th>\n",
       "      <td>September 09, 1913</td>\n",
       "      <td>18:30</td>\n",
       "      <td>Over the North Sea</td>\n",
       "      <td>Military - German Navy</td>\n",
       "      <td>?</td>\n",
       "      <td>?</td>\n",
       "      <td>Zeppelin L-1 (airship)</td>\n",
       "      <td>?</td>\n",
       "      <td>?</td>\n",
       "      <td>20</td>\n",
       "      <td>?</td>\n",
       "      <td>?</td>\n",
       "      <td>14</td>\n",
       "      <td>?</td>\n",
       "      <td>?</td>\n",
       "      <td>0</td>\n",
       "      <td>The airship flew into a thunderstorm and encou...</td>\n",
       "    </tr>\n",
       "    <tr>\n",
       "      <th>...</th>\n",
       "      <td>...</td>\n",
       "      <td>...</td>\n",
       "      <td>...</td>\n",
       "      <td>...</td>\n",
       "      <td>...</td>\n",
       "      <td>...</td>\n",
       "      <td>...</td>\n",
       "      <td>...</td>\n",
       "      <td>...</td>\n",
       "      <td>...</td>\n",
       "      <td>...</td>\n",
       "      <td>...</td>\n",
       "      <td>...</td>\n",
       "      <td>...</td>\n",
       "      <td>...</td>\n",
       "      <td>...</td>\n",
       "      <td>...</td>\n",
       "    </tr>\n",
       "    <tr>\n",
       "      <th>5003</th>\n",
       "      <td>March 28, 2021</td>\n",
       "      <td>18:35</td>\n",
       "      <td>Near Butte, Alaska</td>\n",
       "      <td>Soloy Helicopters</td>\n",
       "      <td>?</td>\n",
       "      <td>Sightseeing Charter</td>\n",
       "      <td>Eurocopter AS350B3 Ecureuil</td>\n",
       "      <td>N351SH</td>\n",
       "      <td>4598</td>\n",
       "      <td>6</td>\n",
       "      <td>5</td>\n",
       "      <td>1</td>\n",
       "      <td>5</td>\n",
       "      <td>4</td>\n",
       "      <td>1</td>\n",
       "      <td>0</td>\n",
       "      <td>The sightseeing helicopter crashed after missi...</td>\n",
       "    </tr>\n",
       "    <tr>\n",
       "      <th>5004</th>\n",
       "      <td>May 21, 2021</td>\n",
       "      <td>18:00</td>\n",
       "      <td>Near Kaduna, Nigeria</td>\n",
       "      <td>Military - Nigerian Air Force</td>\n",
       "      <td>?</td>\n",
       "      <td>?</td>\n",
       "      <td>Beechcraft B300 King Air 350i</td>\n",
       "      <td>NAF203</td>\n",
       "      <td>FL-891</td>\n",
       "      <td>11</td>\n",
       "      <td>7</td>\n",
       "      <td>4</td>\n",
       "      <td>11</td>\n",
       "      <td>7</td>\n",
       "      <td>4</td>\n",
       "      <td>0</td>\n",
       "      <td>While on final approach, in poor weather condi...</td>\n",
       "    </tr>\n",
       "    <tr>\n",
       "      <th>5005</th>\n",
       "      <td>June 10, 2021</td>\n",
       "      <td>08:00</td>\n",
       "      <td>Near Pyin Oo Lwin, Myanmar</td>\n",
       "      <td>Military - Myanmar Air Force</td>\n",
       "      <td>?</td>\n",
       "      <td>Naypyidaw - Anisakan</td>\n",
       "      <td>Beechcraft 1900D</td>\n",
       "      <td>4610</td>\n",
       "      <td>E-325</td>\n",
       "      <td>14</td>\n",
       "      <td>12</td>\n",
       "      <td>2</td>\n",
       "      <td>12</td>\n",
       "      <td>11</td>\n",
       "      <td>1</td>\n",
       "      <td>0</td>\n",
       "      <td>The plane was carrying military personnel and ...</td>\n",
       "    </tr>\n",
       "    <tr>\n",
       "      <th>5006</th>\n",
       "      <td>July 04, 2021</td>\n",
       "      <td>11:30</td>\n",
       "      <td>Patikul, Sulu, Philippines</td>\n",
       "      <td>Military - Philippine Air Force</td>\n",
       "      <td>?</td>\n",
       "      <td>Cagayan de Oro-Lumbia - Jolo</td>\n",
       "      <td>Lockheed C-130H Hercules</td>\n",
       "      <td>5125</td>\n",
       "      <td>5125</td>\n",
       "      <td>96</td>\n",
       "      <td>88</td>\n",
       "      <td>8</td>\n",
       "      <td>50</td>\n",
       "      <td>?</td>\n",
       "      <td>?</td>\n",
       "      <td>3</td>\n",
       "      <td>While attempting to land at Jolo Airport, the ...</td>\n",
       "    </tr>\n",
       "    <tr>\n",
       "      <th>5007</th>\n",
       "      <td>July 06, 2021</td>\n",
       "      <td>15:00</td>\n",
       "      <td>Palana, Russia</td>\n",
       "      <td>Kamchatka Aviation Enterprise</td>\n",
       "      <td>251</td>\n",
       "      <td>Petropavlovsk - Palana</td>\n",
       "      <td>Antonov An 26B-100</td>\n",
       "      <td>RA-26085</td>\n",
       "      <td>12310</td>\n",
       "      <td>28</td>\n",
       "      <td>22</td>\n",
       "      <td>6</td>\n",
       "      <td>28</td>\n",
       "      <td>22</td>\n",
       "      <td>6</td>\n",
       "      <td>0</td>\n",
       "      <td>The passenger plane crashed into the top of a ...</td>\n",
       "    </tr>\n",
       "  </tbody>\n",
       "</table>\n",
       "<p>5008 rows × 17 columns</p>\n",
       "</div>"
      ],
      "text/plain": [
       "                   fecha hora_declarada                       lugar_impacto  \\\n",
       "0     September 17, 1908          17:18                 Fort Myer, Virginia   \n",
       "1     September 07, 1909              ?             Juvisy-sur-Orge, France   \n",
       "2          July 12, 1912          06:30           Atlantic City, New Jersey   \n",
       "3        August 06, 1913              ?  Victoria, British Columbia, Canada   \n",
       "4     September 09, 1913          18:30                  Over the North Sea   \n",
       "...                  ...            ...                                 ...   \n",
       "5003      March 28, 2021          18:35                  Near Butte, Alaska   \n",
       "5004        May 21, 2021          18:00                Near Kaduna, Nigeria   \n",
       "5005       June 10, 2021          08:00          Near Pyin Oo Lwin, Myanmar   \n",
       "5006       July 04, 2021          11:30          Patikul, Sulu, Philippines   \n",
       "5007       July 06, 2021          15:00                      Palana, Russia   \n",
       "\n",
       "                             operador numero_de_vuelo  \\\n",
       "0                Military - U.S. Army               ?   \n",
       "1                                   ?               ?   \n",
       "2                Military - U.S. Navy               ?   \n",
       "3                             Private               ?   \n",
       "4              Military - German Navy               ?   \n",
       "...                               ...             ...   \n",
       "5003                Soloy Helicopters               ?   \n",
       "5004    Military - Nigerian Air Force               ?   \n",
       "5005     Military - Myanmar Air Force               ?   \n",
       "5006  Military - Philippine Air Force               ?   \n",
       "5007    Kamchatka Aviation Enterprise             251   \n",
       "\n",
       "                              ruta                       aeronave  registro  \\\n",
       "0                    Demonstration               Wright Flyer III         ?   \n",
       "1                         Air show                 Wright Byplane       SC1   \n",
       "2                      Test flight                      Dirigible         ?   \n",
       "3                                ?               Curtiss seaplane         ?   \n",
       "4                                ?         Zeppelin L-1 (airship)         ?   \n",
       "...                            ...                            ...       ...   \n",
       "5003           Sightseeing Charter    Eurocopter AS350B3 Ecureuil    N351SH   \n",
       "5004                             ?  Beechcraft B300 King Air 350i    NAF203   \n",
       "5005          Naypyidaw - Anisakan               Beechcraft 1900D      4610   \n",
       "5006  Cagayan de Oro-Lumbia - Jolo       Lockheed C-130H Hercules      5125   \n",
       "5007        Petropavlovsk - Palana             Antonov An 26B-100  RA-26085   \n",
       "\n",
       "     serie_o_fuselaje personas_a_bordo pasajeros tripulacion  \\\n",
       "0                   1                2         1           1   \n",
       "1                   ?                1         0           1   \n",
       "2                   ?                5         0           5   \n",
       "3                   ?                1         0           1   \n",
       "4                   ?               20         ?           ?   \n",
       "...               ...              ...       ...         ...   \n",
       "5003             4598                6         5           1   \n",
       "5004           FL-891               11         7           4   \n",
       "5005            E-325               14        12           2   \n",
       "5006             5125               96        88           8   \n",
       "5007            12310               28        22           6   \n",
       "\n",
       "     cantidad_fallecidos pasajeros_fallecidos tripulacion_fallecida  \\\n",
       "0                      1                    1                     0   \n",
       "1                      1                    0                     0   \n",
       "2                      5                    0                     5   \n",
       "3                      1                    0                     1   \n",
       "4                     14                    ?                     ?   \n",
       "...                  ...                  ...                   ...   \n",
       "5003                   5                    4                     1   \n",
       "5004                  11                    7                     4   \n",
       "5005                  12                   11                     1   \n",
       "5006                  50                    ?                     ?   \n",
       "5007                  28                   22                     6   \n",
       "\n",
       "     personas_no_a_bordo_fallecidas  \\\n",
       "0                                 0   \n",
       "1                                 0   \n",
       "2                                 0   \n",
       "3                                 0   \n",
       "4                                 0   \n",
       "...                             ...   \n",
       "5003                              0   \n",
       "5004                              0   \n",
       "5005                              0   \n",
       "5006                              3   \n",
       "5007                              0   \n",
       "\n",
       "                                                resumen  \n",
       "0     During a demonstration flight, a U.S. Army fly...  \n",
       "1     Eugene Lefebvre was the first pilot to ever be...  \n",
       "2     First U.S. dirigible Akron exploded just offsh...  \n",
       "3     The first fatal airplane accident in Canada oc...  \n",
       "4     The airship flew into a thunderstorm and encou...  \n",
       "...                                                 ...  \n",
       "5003  The sightseeing helicopter crashed after missi...  \n",
       "5004  While on final approach, in poor weather condi...  \n",
       "5005  The plane was carrying military personnel and ...  \n",
       "5006  While attempting to land at Jolo Airport, the ...  \n",
       "5007  The passenger plane crashed into the top of a ...  \n",
       "\n",
       "[5008 rows x 17 columns]"
      ]
     },
     "execution_count": 18,
     "metadata": {},
     "output_type": "execute_result"
    }
   ],
   "source": [
    "df_aviones"
   ]
  },
  {
   "cell_type": "code",
   "execution_count": 19,
   "metadata": {},
   "outputs": [
    {
     "data": {
      "text/html": [
       "<div>\n",
       "<style scoped>\n",
       "    .dataframe tbody tr th:only-of-type {\n",
       "        vertical-align: middle;\n",
       "    }\n",
       "\n",
       "    .dataframe tbody tr th {\n",
       "        vertical-align: top;\n",
       "    }\n",
       "\n",
       "    .dataframe thead th {\n",
       "        text-align: right;\n",
       "    }\n",
       "</style>\n",
       "<table border=\"1\" class=\"dataframe\">\n",
       "  <thead>\n",
       "    <tr style=\"text-align: right;\">\n",
       "      <th></th>\n",
       "      <th>columna</th>\n",
       "      <th>cant_?</th>\n",
       "    </tr>\n",
       "  </thead>\n",
       "  <tbody>\n",
       "    <tr>\n",
       "      <th>0</th>\n",
       "      <td>fecha</td>\n",
       "      <td>0</td>\n",
       "    </tr>\n",
       "    <tr>\n",
       "      <th>1</th>\n",
       "      <td>hora_declarada</td>\n",
       "      <td>1504</td>\n",
       "    </tr>\n",
       "    <tr>\n",
       "      <th>2</th>\n",
       "      <td>lugar_impacto</td>\n",
       "      <td>5</td>\n",
       "    </tr>\n",
       "    <tr>\n",
       "      <th>3</th>\n",
       "      <td>operador</td>\n",
       "      <td>10</td>\n",
       "    </tr>\n",
       "    <tr>\n",
       "      <th>4</th>\n",
       "      <td>numero_de_vuelo</td>\n",
       "      <td>3682</td>\n",
       "    </tr>\n",
       "    <tr>\n",
       "      <th>5</th>\n",
       "      <td>ruta</td>\n",
       "      <td>762</td>\n",
       "    </tr>\n",
       "    <tr>\n",
       "      <th>6</th>\n",
       "      <td>aeronave</td>\n",
       "      <td>13</td>\n",
       "    </tr>\n",
       "    <tr>\n",
       "      <th>7</th>\n",
       "      <td>registro</td>\n",
       "      <td>272</td>\n",
       "    </tr>\n",
       "    <tr>\n",
       "      <th>8</th>\n",
       "      <td>serie_o_fuselaje</td>\n",
       "      <td>667</td>\n",
       "    </tr>\n",
       "    <tr>\n",
       "      <th>9</th>\n",
       "      <td>personas_a_bordo</td>\n",
       "      <td>17</td>\n",
       "    </tr>\n",
       "    <tr>\n",
       "      <th>10</th>\n",
       "      <td>pasajeros</td>\n",
       "      <td>221</td>\n",
       "    </tr>\n",
       "    <tr>\n",
       "      <th>11</th>\n",
       "      <td>tripulacion</td>\n",
       "      <td>219</td>\n",
       "    </tr>\n",
       "    <tr>\n",
       "      <th>12</th>\n",
       "      <td>cantidad_fallecidos</td>\n",
       "      <td>8</td>\n",
       "    </tr>\n",
       "    <tr>\n",
       "      <th>13</th>\n",
       "      <td>pasajeros_fallecidos</td>\n",
       "      <td>235</td>\n",
       "    </tr>\n",
       "    <tr>\n",
       "      <th>14</th>\n",
       "      <td>tripulacion_fallecida</td>\n",
       "      <td>235</td>\n",
       "    </tr>\n",
       "    <tr>\n",
       "      <th>15</th>\n",
       "      <td>personas_no_a_bordo_fallecidas</td>\n",
       "      <td>44</td>\n",
       "    </tr>\n",
       "    <tr>\n",
       "      <th>16</th>\n",
       "      <td>resumen</td>\n",
       "      <td>59</td>\n",
       "    </tr>\n",
       "  </tbody>\n",
       "</table>\n",
       "</div>"
      ],
      "text/plain": [
       "                           columna  cant_?\n",
       "0                            fecha       0\n",
       "1                   hora_declarada    1504\n",
       "2                    lugar_impacto       5\n",
       "3                         operador      10\n",
       "4                  numero_de_vuelo    3682\n",
       "5                             ruta     762\n",
       "6                         aeronave      13\n",
       "7                         registro     272\n",
       "8                 serie_o_fuselaje     667\n",
       "9                 personas_a_bordo      17\n",
       "10                       pasajeros     221\n",
       "11                     tripulacion     219\n",
       "12             cantidad_fallecidos       8\n",
       "13            pasajeros_fallecidos     235\n",
       "14           tripulacion_fallecida     235\n",
       "15  personas_no_a_bordo_fallecidas      44\n",
       "16                         resumen      59"
      ]
     },
     "execution_count": 19,
     "metadata": {},
     "output_type": "execute_result"
    }
   ],
   "source": [
    "#Observar si cambio la cantidad de elementos '?' luego de la anterior transformación\n",
    "elemento = '?'\n",
    "counts_por_columna = {}\n",
    "\n",
    "for columna in df_aviones.columns:\n",
    "    counts = df_aviones[columna].value_counts()\n",
    "    counts_por_columna[columna] = counts.get(elemento, 0)\n",
    "\n",
    "\n",
    "data = {'columna':list(counts_por_columna.keys()), 'cant_?' : list(counts_por_columna.values())}\n",
    "df =pd.DataFrame(data)\n",
    "df"
   ]
  },
  {
   "cell_type": "code",
   "execution_count": 20,
   "metadata": {},
   "outputs": [
    {
     "name": "stdout",
     "output_type": "stream",
     "text": [
      "                  fecha hora_declarada                     lugar_impacto  \\\n",
      "158  September 02, 1928         c 9:15                      Toul, France   \n",
      "239   November 18, 1930        c: 2:00  Techachapi Mountains, California   \n",
      "\n",
      "                  operador numero_de_vuelo                       ruta  \\\n",
      "158                  CIDNA               ?    Toul - Clermont-Ferrand   \n",
      "239  Pacific Air Transport               ?  Burbank, CA - Oakland, CA   \n",
      "\n",
      "            aeronave registro serie_o_fuselaje personas_a_bordo pasajeros  \\\n",
      "158  Bleriot Spad 33   F-AIEP           5/4207                5         2   \n",
      "239        Boeing 40   NC5340                ?                3         0   \n",
      "\n",
      "    tripulacion cantidad_fallecidos pasajeros_fallecidos  \\\n",
      "158           3                   5                    2   \n",
      "239           3                   3                    0   \n",
      "\n",
      "    tripulacion_fallecida personas_no_a_bordo_fallecidas  \\\n",
      "158                     3                              0   \n",
      "239                     3                              ?   \n",
      "\n",
      "                                               resumen  \n",
      "158  After taking off the engine failed, the plane ...  \n",
      "239  Crashed into a mountainside at an altitude of ...  \n"
     ]
    }
   ],
   "source": [
    "# Observar si aperar de la transformación anterior sigue habiendo el caracter 'c' que se obserbó estuvo\n",
    "# presente a lo largo de esta columna\n",
    "contains_c = df_aviones['hora_declarada'].str.contains('c', case=False)\n",
    "print(df_aviones[contains_c])"
   ]
  },
  {
   "cell_type": "code",
   "execution_count": 21,
   "metadata": {},
   "outputs": [],
   "source": [
    "#Corregimos los valores aún existentes\n",
    "df_aviones['hora_declarada'] = df_aviones['hora_declarada'].str.replace('c: ', '', regex=False)\n",
    "df_aviones['hora_declarada'] = df_aviones['hora_declarada'].str.replace('c ', '', regex=False)"
   ]
  },
  {
   "cell_type": "code",
   "execution_count": 22,
   "metadata": {},
   "outputs": [
    {
     "name": "stdout",
     "output_type": "stream",
     "text": [
      "Empty DataFrame\n",
      "Columns: [fecha, hora_declarada, lugar_impacto, operador, numero_de_vuelo, ruta, aeronave, registro, serie_o_fuselaje, personas_a_bordo, pasajeros, tripulacion, cantidad_fallecidos, pasajeros_fallecidos, tripulacion_fallecida, personas_no_a_bordo_fallecidas, resumen]\n",
      "Index: []\n"
     ]
    }
   ],
   "source": [
    "#Volvemos a  revisar\n",
    "contains_c = df_aviones['hora_declarada'].str.contains('c', case=False)\n",
    "print(df_aviones[contains_c])"
   ]
  },
  {
   "cell_type": "code",
   "execution_count": 23,
   "metadata": {},
   "outputs": [],
   "source": [
    "df_aviones['fecha']=pd.to_datetime(df_aviones['fecha'])"
   ]
  },
  {
   "cell_type": "code",
   "execution_count": 24,
   "metadata": {},
   "outputs": [
    {
     "name": "stdout",
     "output_type": "stream",
     "text": [
      "<class 'pandas.core.frame.DataFrame'>\n",
      "RangeIndex: 5008 entries, 0 to 5007\n",
      "Data columns (total 17 columns):\n",
      " #   Column                          Non-Null Count  Dtype         \n",
      "---  ------                          --------------  -----         \n",
      " 0   fecha                           5008 non-null   datetime64[ns]\n",
      " 1   hora_declarada                  5008 non-null   object        \n",
      " 2   lugar_impacto                   5008 non-null   object        \n",
      " 3   operador                        5008 non-null   object        \n",
      " 4   numero_de_vuelo                 5008 non-null   object        \n",
      " 5   ruta                            5008 non-null   object        \n",
      " 6   aeronave                        5008 non-null   object        \n",
      " 7   registro                        5008 non-null   object        \n",
      " 8   serie_o_fuselaje                5008 non-null   object        \n",
      " 9   personas_a_bordo                5008 non-null   object        \n",
      " 10  pasajeros                       5008 non-null   object        \n",
      " 11  tripulacion                     5008 non-null   object        \n",
      " 12  cantidad_fallecidos             5008 non-null   object        \n",
      " 13  pasajeros_fallecidos            5008 non-null   object        \n",
      " 14  tripulacion_fallecida           5008 non-null   object        \n",
      " 15  personas_no_a_bordo_fallecidas  5008 non-null   object        \n",
      " 16  resumen                         5008 non-null   object        \n",
      "dtypes: datetime64[ns](1), object(16)\n",
      "memory usage: 665.2+ KB\n"
     ]
    }
   ],
   "source": [
    "df_aviones.info()"
   ]
  },
  {
   "attachments": {},
   "cell_type": "markdown",
   "metadata": {},
   "source": [
    "Eliminar columnas que no brindan información relevante para el análisis de tasa de mortalidad en vuelos"
   ]
  },
  {
   "cell_type": "code",
   "execution_count": 25,
   "metadata": {},
   "outputs": [],
   "source": [
    "df_aviones=df_aviones.drop(['numero_de_vuelo','registro','serie_o_fuselaje','resumen'], axis=1)"
   ]
  },
  {
   "attachments": {},
   "cell_type": "markdown",
   "metadata": {},
   "source": [
    "Cómo el análisis de la data se basa con la certeza de exitencia de las personas en la aeronave, eliminamos todas las filas en las que no existe un valor certero en la columna 'personas_a_bordo'"
   ]
  },
  {
   "cell_type": "code",
   "execution_count": 26,
   "metadata": {},
   "outputs": [
    {
     "data": {
      "text/html": [
       "<div>\n",
       "<style scoped>\n",
       "    .dataframe tbody tr th:only-of-type {\n",
       "        vertical-align: middle;\n",
       "    }\n",
       "\n",
       "    .dataframe tbody tr th {\n",
       "        vertical-align: top;\n",
       "    }\n",
       "\n",
       "    .dataframe thead th {\n",
       "        text-align: right;\n",
       "    }\n",
       "</style>\n",
       "<table border=\"1\" class=\"dataframe\">\n",
       "  <thead>\n",
       "    <tr style=\"text-align: right;\">\n",
       "      <th></th>\n",
       "      <th>fecha</th>\n",
       "      <th>hora_declarada</th>\n",
       "      <th>lugar_impacto</th>\n",
       "      <th>operador</th>\n",
       "      <th>ruta</th>\n",
       "      <th>aeronave</th>\n",
       "      <th>personas_a_bordo</th>\n",
       "      <th>pasajeros</th>\n",
       "      <th>tripulacion</th>\n",
       "      <th>cantidad_fallecidos</th>\n",
       "      <th>pasajeros_fallecidos</th>\n",
       "      <th>tripulacion_fallecida</th>\n",
       "      <th>personas_no_a_bordo_fallecidas</th>\n",
       "    </tr>\n",
       "  </thead>\n",
       "  <tbody>\n",
       "    <tr>\n",
       "      <th>26</th>\n",
       "      <td>1919-07-21</td>\n",
       "      <td>16:55</td>\n",
       "      <td>Chicago, Illinois</td>\n",
       "      <td>Wingfoot Air Express Goodyear Tire</td>\n",
       "      <td>Shuttle</td>\n",
       "      <td>FD Type Dirigible</td>\n",
       "      <td>?</td>\n",
       "      <td>?</td>\n",
       "      <td>?</td>\n",
       "      <td>3</td>\n",
       "      <td>2</td>\n",
       "      <td>1</td>\n",
       "      <td>10</td>\n",
       "    </tr>\n",
       "    <tr>\n",
       "      <th>103</th>\n",
       "      <td>1925-09-07</td>\n",
       "      <td>?</td>\n",
       "      <td>Toul, France</td>\n",
       "      <td>CIDNA</td>\n",
       "      <td>?</td>\n",
       "      <td>Spad 33</td>\n",
       "      <td>?</td>\n",
       "      <td>?</td>\n",
       "      <td>?</td>\n",
       "      <td>?</td>\n",
       "      <td>?</td>\n",
       "      <td>?</td>\n",
       "      <td>?</td>\n",
       "    </tr>\n",
       "    <tr>\n",
       "      <th>347</th>\n",
       "      <td>1934-08-10</td>\n",
       "      <td>?</td>\n",
       "      <td>Ningbo, China</td>\n",
       "      <td>China National Aviation Corporation</td>\n",
       "      <td>?</td>\n",
       "      <td>Sikorsky S-38B</td>\n",
       "      <td>?</td>\n",
       "      <td>?</td>\n",
       "      <td>?</td>\n",
       "      <td>?</td>\n",
       "      <td>?</td>\n",
       "      <td>?</td>\n",
       "      <td>?</td>\n",
       "    </tr>\n",
       "    <tr>\n",
       "      <th>384</th>\n",
       "      <td>1935-08-13</td>\n",
       "      <td>?</td>\n",
       "      <td>Hangow, China</td>\n",
       "      <td>China National Aviation Corporation</td>\n",
       "      <td>?</td>\n",
       "      <td>Sikorsky S-38B</td>\n",
       "      <td>?</td>\n",
       "      <td>?</td>\n",
       "      <td>?</td>\n",
       "      <td>?</td>\n",
       "      <td>?</td>\n",
       "      <td>?</td>\n",
       "      <td>?</td>\n",
       "    </tr>\n",
       "    <tr>\n",
       "      <th>451</th>\n",
       "      <td>1936-12-26</td>\n",
       "      <td>?</td>\n",
       "      <td>Nanking, China</td>\n",
       "      <td>China National Aviation Corporation</td>\n",
       "      <td>?</td>\n",
       "      <td>Douglas DC-2</td>\n",
       "      <td>?</td>\n",
       "      <td>?</td>\n",
       "      <td>?</td>\n",
       "      <td>?</td>\n",
       "      <td>?</td>\n",
       "      <td>?</td>\n",
       "      <td>?</td>\n",
       "    </tr>\n",
       "    <tr>\n",
       "      <th>652</th>\n",
       "      <td>1942-10-01</td>\n",
       "      <td>?</td>\n",
       "      <td>Kunming, China</td>\n",
       "      <td>China National Aviation Corporation</td>\n",
       "      <td>?</td>\n",
       "      <td>Douglas C-47</td>\n",
       "      <td>?</td>\n",
       "      <td>?</td>\n",
       "      <td>?</td>\n",
       "      <td>?</td>\n",
       "      <td>?</td>\n",
       "      <td>?</td>\n",
       "      <td>?</td>\n",
       "    </tr>\n",
       "    <tr>\n",
       "      <th>754</th>\n",
       "      <td>1944-11-09</td>\n",
       "      <td>?</td>\n",
       "      <td>Seljord, Norway</td>\n",
       "      <td>Military - U.S. Army Air Corps</td>\n",
       "      <td>?</td>\n",
       "      <td>?</td>\n",
       "      <td>?</td>\n",
       "      <td>?</td>\n",
       "      <td>?</td>\n",
       "      <td>?</td>\n",
       "      <td>?</td>\n",
       "      <td>?</td>\n",
       "      <td>?</td>\n",
       "    </tr>\n",
       "    <tr>\n",
       "      <th>854</th>\n",
       "      <td>1946-03-18</td>\n",
       "      <td>?</td>\n",
       "      <td>Between Chungking and Shanghai, China</td>\n",
       "      <td>China National Aviation Corporation</td>\n",
       "      <td>Chunking - Shanghai</td>\n",
       "      <td>?</td>\n",
       "      <td>?</td>\n",
       "      <td>?</td>\n",
       "      <td>?</td>\n",
       "      <td>?</td>\n",
       "      <td>?</td>\n",
       "      <td>?</td>\n",
       "      <td>?</td>\n",
       "    </tr>\n",
       "    <tr>\n",
       "      <th>1231</th>\n",
       "      <td>1951-01-20</td>\n",
       "      <td>?</td>\n",
       "      <td>Huilyo, Peru</td>\n",
       "      <td>Military - TAM</td>\n",
       "      <td>?</td>\n",
       "      <td>Douglas DC-3</td>\n",
       "      <td>?</td>\n",
       "      <td>?</td>\n",
       "      <td>?</td>\n",
       "      <td>16</td>\n",
       "      <td>?</td>\n",
       "      <td>?</td>\n",
       "      <td>?</td>\n",
       "    </tr>\n",
       "    <tr>\n",
       "      <th>1362</th>\n",
       "      <td>1952-12-22</td>\n",
       "      <td>?</td>\n",
       "      <td>Damascus, Syria</td>\n",
       "      <td>Syrian Air</td>\n",
       "      <td>?</td>\n",
       "      <td>Douglas DC-3</td>\n",
       "      <td>?</td>\n",
       "      <td>?</td>\n",
       "      <td>?</td>\n",
       "      <td>9</td>\n",
       "      <td>?</td>\n",
       "      <td>?</td>\n",
       "      <td>?</td>\n",
       "    </tr>\n",
       "    <tr>\n",
       "      <th>1386</th>\n",
       "      <td>1953-04-10</td>\n",
       "      <td>?</td>\n",
       "      <td>Near Anchieta Island, Brazil</td>\n",
       "      <td>REAL</td>\n",
       "      <td>?</td>\n",
       "      <td>Doublas Dc-3</td>\n",
       "      <td>?</td>\n",
       "      <td>?</td>\n",
       "      <td>?</td>\n",
       "      <td>26</td>\n",
       "      <td>?</td>\n",
       "      <td>?</td>\n",
       "      <td>?</td>\n",
       "    </tr>\n",
       "    <tr>\n",
       "      <th>1451</th>\n",
       "      <td>1954-03-13</td>\n",
       "      <td>?</td>\n",
       "      <td>Dien Bien Phu, South Vietnam</td>\n",
       "      <td>Aigle Azur</td>\n",
       "      <td>?</td>\n",
       "      <td>C-46</td>\n",
       "      <td>?</td>\n",
       "      <td>?</td>\n",
       "      <td>?</td>\n",
       "      <td>?</td>\n",
       "      <td>?</td>\n",
       "      <td>?</td>\n",
       "      <td>?</td>\n",
       "    </tr>\n",
       "    <tr>\n",
       "      <th>1577</th>\n",
       "      <td>1956-06-13</td>\n",
       "      <td>?</td>\n",
       "      <td>Over North Carolina</td>\n",
       "      <td>Piedmont</td>\n",
       "      <td>?</td>\n",
       "      <td>Douglas DC-3</td>\n",
       "      <td>?</td>\n",
       "      <td>?</td>\n",
       "      <td>?</td>\n",
       "      <td>1</td>\n",
       "      <td>1</td>\n",
       "      <td>?</td>\n",
       "      <td>0</td>\n",
       "    </tr>\n",
       "    <tr>\n",
       "      <th>1627</th>\n",
       "      <td>1957-04-20</td>\n",
       "      <td>?</td>\n",
       "      <td>Jirkouk, Iraq</td>\n",
       "      <td>Air France</td>\n",
       "      <td>Tehran, Iran - Istanbul, Turkey</td>\n",
       "      <td>Lockheed Super Constellation</td>\n",
       "      <td>?</td>\n",
       "      <td>?</td>\n",
       "      <td>?</td>\n",
       "      <td>1</td>\n",
       "      <td>1</td>\n",
       "      <td>0</td>\n",
       "      <td>0</td>\n",
       "    </tr>\n",
       "    <tr>\n",
       "      <th>1638</th>\n",
       "      <td>1957-06-24</td>\n",
       "      <td>?</td>\n",
       "      <td>Horn Island, Queensland, Australia</td>\n",
       "      <td>Adastra Airways</td>\n",
       "      <td>?</td>\n",
       "      <td>L-Hudson</td>\n",
       "      <td>?</td>\n",
       "      <td>?</td>\n",
       "      <td>?</td>\n",
       "      <td>6</td>\n",
       "      <td>?</td>\n",
       "      <td>?</td>\n",
       "      <td>?</td>\n",
       "    </tr>\n",
       "    <tr>\n",
       "      <th>3553</th>\n",
       "      <td>1989-05-09</td>\n",
       "      <td>?</td>\n",
       "      <td>Near Tainjin, China</td>\n",
       "      <td>Aero Asahi</td>\n",
       "      <td>?</td>\n",
       "      <td>Bell 412</td>\n",
       "      <td>?</td>\n",
       "      <td>?</td>\n",
       "      <td>?</td>\n",
       "      <td>10</td>\n",
       "      <td>?</td>\n",
       "      <td>?</td>\n",
       "      <td>0</td>\n",
       "    </tr>\n",
       "    <tr>\n",
       "      <th>3752</th>\n",
       "      <td>1992-02-20</td>\n",
       "      <td>?</td>\n",
       "      <td>En route from Argentina  to  California</td>\n",
       "      <td>Aerolineas Argentinas</td>\n",
       "      <td>?</td>\n",
       "      <td>Boeing B-747</td>\n",
       "      <td>?</td>\n",
       "      <td>?</td>\n",
       "      <td>?</td>\n",
       "      <td>1</td>\n",
       "      <td>?</td>\n",
       "      <td>?</td>\n",
       "      <td>0</td>\n",
       "    </tr>\n",
       "  </tbody>\n",
       "</table>\n",
       "</div>"
      ],
      "text/plain": [
       "          fecha hora_declarada                            lugar_impacto  \\\n",
       "26   1919-07-21          16:55                        Chicago, Illinois   \n",
       "103  1925-09-07              ?                             Toul, France   \n",
       "347  1934-08-10              ?                            Ningbo, China   \n",
       "384  1935-08-13              ?                            Hangow, China   \n",
       "451  1936-12-26              ?                           Nanking, China   \n",
       "652  1942-10-01              ?                           Kunming, China   \n",
       "754  1944-11-09              ?                          Seljord, Norway   \n",
       "854  1946-03-18              ?    Between Chungking and Shanghai, China   \n",
       "1231 1951-01-20              ?                             Huilyo, Peru   \n",
       "1362 1952-12-22              ?                          Damascus, Syria   \n",
       "1386 1953-04-10              ?             Near Anchieta Island, Brazil   \n",
       "1451 1954-03-13              ?             Dien Bien Phu, South Vietnam   \n",
       "1577 1956-06-13              ?                      Over North Carolina   \n",
       "1627 1957-04-20              ?                            Jirkouk, Iraq   \n",
       "1638 1957-06-24              ?       Horn Island, Queensland, Australia   \n",
       "3553 1989-05-09              ?                      Near Tainjin, China   \n",
       "3752 1992-02-20              ?  En route from Argentina  to  California   \n",
       "\n",
       "                                 operador                             ruta  \\\n",
       "26     Wingfoot Air Express Goodyear Tire                          Shuttle   \n",
       "103                                 CIDNA                                ?   \n",
       "347   China National Aviation Corporation                                ?   \n",
       "384   China National Aviation Corporation                                ?   \n",
       "451   China National Aviation Corporation                                ?   \n",
       "652   China National Aviation Corporation                                ?   \n",
       "754        Military - U.S. Army Air Corps                                ?   \n",
       "854   China National Aviation Corporation              Chunking - Shanghai   \n",
       "1231                       Military - TAM                                ?   \n",
       "1362                           Syrian Air                                ?   \n",
       "1386                                 REAL                                ?   \n",
       "1451                           Aigle Azur                                ?   \n",
       "1577                             Piedmont                                ?   \n",
       "1627                           Air France  Tehran, Iran - Istanbul, Turkey   \n",
       "1638                      Adastra Airways                                ?   \n",
       "3553                           Aero Asahi                                ?   \n",
       "3752                Aerolineas Argentinas                                ?   \n",
       "\n",
       "                          aeronave personas_a_bordo pasajeros tripulacion  \\\n",
       "26               FD Type Dirigible                ?         ?           ?   \n",
       "103                        Spad 33                ?         ?           ?   \n",
       "347                 Sikorsky S-38B                ?         ?           ?   \n",
       "384                 Sikorsky S-38B                ?         ?           ?   \n",
       "451                   Douglas DC-2                ?         ?           ?   \n",
       "652                   Douglas C-47                ?         ?           ?   \n",
       "754                              ?                ?         ?           ?   \n",
       "854                              ?                ?         ?           ?   \n",
       "1231                  Douglas DC-3                ?         ?           ?   \n",
       "1362                  Douglas DC-3                ?         ?           ?   \n",
       "1386                  Doublas Dc-3                ?         ?           ?   \n",
       "1451                          C-46                ?         ?           ?   \n",
       "1577                  Douglas DC-3                ?         ?           ?   \n",
       "1627  Lockheed Super Constellation                ?         ?           ?   \n",
       "1638                      L-Hudson                ?         ?           ?   \n",
       "3553                      Bell 412                ?         ?           ?   \n",
       "3752                  Boeing B-747                ?         ?           ?   \n",
       "\n",
       "     cantidad_fallecidos pasajeros_fallecidos tripulacion_fallecida  \\\n",
       "26                     3                    2                     1   \n",
       "103                    ?                    ?                     ?   \n",
       "347                    ?                    ?                     ?   \n",
       "384                    ?                    ?                     ?   \n",
       "451                    ?                    ?                     ?   \n",
       "652                    ?                    ?                     ?   \n",
       "754                    ?                    ?                     ?   \n",
       "854                    ?                    ?                     ?   \n",
       "1231                  16                    ?                     ?   \n",
       "1362                   9                    ?                     ?   \n",
       "1386                  26                    ?                     ?   \n",
       "1451                   ?                    ?                     ?   \n",
       "1577                   1                    1                     ?   \n",
       "1627                   1                    1                     0   \n",
       "1638                   6                    ?                     ?   \n",
       "3553                  10                    ?                     ?   \n",
       "3752                   1                    ?                     ?   \n",
       "\n",
       "     personas_no_a_bordo_fallecidas  \n",
       "26                               10  \n",
       "103                               ?  \n",
       "347                               ?  \n",
       "384                               ?  \n",
       "451                               ?  \n",
       "652                               ?  \n",
       "754                               ?  \n",
       "854                               ?  \n",
       "1231                              ?  \n",
       "1362                              ?  \n",
       "1386                              ?  \n",
       "1451                              ?  \n",
       "1577                              0  \n",
       "1627                              0  \n",
       "1638                              ?  \n",
       "3553                              0  \n",
       "3752                              0  "
      ]
     },
     "execution_count": 26,
     "metadata": {},
     "output_type": "execute_result"
    }
   ],
   "source": [
    "#Verificar si pasajeros y tripulacion pueden darme informacion de las personas a bordo\n",
    "filas_con_interrogante = df_aviones.loc[df_aviones['personas_a_bordo'] == '?']\n",
    "df2=pd.DataFrame(filas_con_interrogante)\n",
    "df2"
   ]
  },
  {
   "cell_type": "code",
   "execution_count": 27,
   "metadata": {},
   "outputs": [],
   "source": [
    "#En el resultado anterior observamos que no se sabe los valores de pasajeros y tripulacion cuando personas_a_bordo\n",
    "# es '?' por lo que porcedemos a ignorar todos aquellos valores, ya que no hay manera de saberlos\n",
    "df_aviones = df_aviones.loc[df_aviones['personas_a_bordo'] != '?']\n",
    "df_aviones = df_aviones.reset_index(drop=True)"
   ]
  },
  {
   "cell_type": "code",
   "execution_count": 28,
   "metadata": {},
   "outputs": [],
   "source": [
    "#realizamos una copia del dataframe con todas las transformaciones actuales\n",
    "df_aviones_co=df_aviones.copy()"
   ]
  },
  {
   "cell_type": "code",
   "execution_count": 29,
   "metadata": {},
   "outputs": [],
   "source": [
    "# Ahora ya que las columnas pasajeros y tripulacion no me pueden brndar mas informacion con respecto al total de \n",
    "# pasajeros a bordo, procedemos a borrarlos\n",
    "df_aviones=df_aviones.drop(['pasajeros','tripulacion'],axis=1)"
   ]
  },
  {
   "attachments": {},
   "cell_type": "markdown",
   "metadata": {},
   "source": [
    "Observar que al eliminar las filas en donde no se conocía con certeza las personas a bordo, se fueron con ella el total de pasajeros fallecidos en donde tampoco se sabia con certeza el número, por lo que pasajeros_fallecidos y tripulacion_fallecida ya no pueden dar información relevante del total de fallecidos o de la cantidad_fallecidos, por lo que procedemos a eliminar dichas columnas"
   ]
  },
  {
   "cell_type": "code",
   "execution_count": 30,
   "metadata": {},
   "outputs": [],
   "source": [
    "df_aviones=df_aviones.drop(['pasajeros_fallecidos','tripulacion_fallecida'],axis=1)"
   ]
  },
  {
   "cell_type": "code",
   "execution_count": 31,
   "metadata": {},
   "outputs": [
    {
     "data": {
      "text/plain": [
       "(4991, 9)"
      ]
     },
     "execution_count": 31,
     "metadata": {},
     "output_type": "execute_result"
    }
   ],
   "source": [
    "df_aviones.shape"
   ]
  },
  {
   "cell_type": "code",
   "execution_count": 32,
   "metadata": {},
   "outputs": [
    {
     "name": "stdout",
     "output_type": "stream",
     "text": [
      "<class 'pandas.core.frame.DataFrame'>\n",
      "RangeIndex: 4991 entries, 0 to 4990\n",
      "Data columns (total 9 columns):\n",
      " #   Column                          Non-Null Count  Dtype         \n",
      "---  ------                          --------------  -----         \n",
      " 0   fecha                           4991 non-null   datetime64[ns]\n",
      " 1   hora_declarada                  4991 non-null   object        \n",
      " 2   lugar_impacto                   4991 non-null   object        \n",
      " 3   operador                        4991 non-null   object        \n",
      " 4   ruta                            4991 non-null   object        \n",
      " 5   aeronave                        4991 non-null   object        \n",
      " 6   personas_a_bordo                4991 non-null   object        \n",
      " 7   cantidad_fallecidos             4991 non-null   object        \n",
      " 8   personas_no_a_bordo_fallecidas  4991 non-null   object        \n",
      "dtypes: datetime64[ns](1), object(8)\n",
      "memory usage: 351.1+ KB\n"
     ]
    }
   ],
   "source": [
    "df_aviones.info()"
   ]
  },
  {
   "cell_type": "code",
   "execution_count": 33,
   "metadata": {},
   "outputs": [
    {
     "data": {
      "text/html": [
       "<div>\n",
       "<style scoped>\n",
       "    .dataframe tbody tr th:only-of-type {\n",
       "        vertical-align: middle;\n",
       "    }\n",
       "\n",
       "    .dataframe tbody tr th {\n",
       "        vertical-align: top;\n",
       "    }\n",
       "\n",
       "    .dataframe thead th {\n",
       "        text-align: right;\n",
       "    }\n",
       "</style>\n",
       "<table border=\"1\" class=\"dataframe\">\n",
       "  <thead>\n",
       "    <tr style=\"text-align: right;\">\n",
       "      <th></th>\n",
       "      <th>columna</th>\n",
       "      <th>cant_?</th>\n",
       "    </tr>\n",
       "  </thead>\n",
       "  <tbody>\n",
       "    <tr>\n",
       "      <th>0</th>\n",
       "      <td>fecha</td>\n",
       "      <td>0</td>\n",
       "    </tr>\n",
       "    <tr>\n",
       "      <th>1</th>\n",
       "      <td>hora_declarada</td>\n",
       "      <td>1488</td>\n",
       "    </tr>\n",
       "    <tr>\n",
       "      <th>2</th>\n",
       "      <td>lugar_impacto</td>\n",
       "      <td>5</td>\n",
       "    </tr>\n",
       "    <tr>\n",
       "      <th>3</th>\n",
       "      <td>operador</td>\n",
       "      <td>10</td>\n",
       "    </tr>\n",
       "    <tr>\n",
       "      <th>4</th>\n",
       "      <td>ruta</td>\n",
       "      <td>748</td>\n",
       "    </tr>\n",
       "    <tr>\n",
       "      <th>5</th>\n",
       "      <td>aeronave</td>\n",
       "      <td>11</td>\n",
       "    </tr>\n",
       "    <tr>\n",
       "      <th>6</th>\n",
       "      <td>personas_a_bordo</td>\n",
       "      <td>0</td>\n",
       "    </tr>\n",
       "    <tr>\n",
       "      <th>7</th>\n",
       "      <td>cantidad_fallecidos</td>\n",
       "      <td>0</td>\n",
       "    </tr>\n",
       "    <tr>\n",
       "      <th>8</th>\n",
       "      <td>personas_no_a_bordo_fallecidas</td>\n",
       "      <td>32</td>\n",
       "    </tr>\n",
       "  </tbody>\n",
       "</table>\n",
       "</div>"
      ],
      "text/plain": [
       "                          columna  cant_?\n",
       "0                           fecha       0\n",
       "1                  hora_declarada    1488\n",
       "2                   lugar_impacto       5\n",
       "3                        operador      10\n",
       "4                            ruta     748\n",
       "5                        aeronave      11\n",
       "6                personas_a_bordo       0\n",
       "7             cantidad_fallecidos       0\n",
       "8  personas_no_a_bordo_fallecidas      32"
      ]
     },
     "execution_count": 33,
     "metadata": {},
     "output_type": "execute_result"
    }
   ],
   "source": [
    "elemento = '?'\n",
    "counts_por_columna = {}\n",
    "\n",
    "for columna in df_aviones.columns:\n",
    "    counts = df_aviones[columna].value_counts()\n",
    "    counts_por_columna[columna] = counts.get(elemento, 0)\n",
    "\n",
    "\n",
    "data = {'columna':list(counts_por_columna.keys()), 'cant_?' : list(counts_por_columna.values())}\n",
    "df =pd.DataFrame(data)\n",
    "df"
   ]
  },
  {
   "cell_type": "code",
   "execution_count": 34,
   "metadata": {},
   "outputs": [
    {
     "data": {
      "text/plain": [
       "?        1488\n",
       "15:00      38\n",
       "17:00      34\n",
       "14:00      33\n",
       "11:00      32\n",
       "         ... \n",
       "02:42       1\n",
       "00:54       1\n",
       "12:04       1\n",
       "21:16       1\n",
       "19:14       1\n",
       "Name: hora_declarada, Length: 1067, dtype: int64"
      ]
     },
     "execution_count": 34,
     "metadata": {},
     "output_type": "execute_result"
    }
   ],
   "source": [
    "df_aviones['hora_declarada'].value_counts()"
   ]
  },
  {
   "cell_type": "code",
   "execution_count": 35,
   "metadata": {},
   "outputs": [
    {
     "data": {
      "text/plain": [
       "1067"
      ]
     },
     "execution_count": 35,
     "metadata": {},
     "output_type": "execute_result"
    }
   ],
   "source": [
    "df_aviones['hora_declarada'].nunique()"
   ]
  },
  {
   "cell_type": "code",
   "execution_count": 36,
   "metadata": {},
   "outputs": [
    {
     "data": {
      "text/plain": [
       "Moscow, Russia            16\n",
       "Manila, Philippines       15\n",
       "New York, New York        14\n",
       "Cairo, Egypt              13\n",
       "Sao Paulo, Brazil         13\n",
       "Rio de Janeiro, Brazil    12\n",
       "Bogota, Colombia          12\n",
       "Near Moscow, Russia       11\n",
       "Tehran, Iran              10\n",
       "Chicago, Illinois         10\n",
       "Name: lugar_impacto, dtype: int64"
      ]
     },
     "execution_count": 36,
     "metadata": {},
     "output_type": "execute_result"
    }
   ],
   "source": [
    "df_aviones['lugar_impacto'].value_counts().head(10)"
   ]
  },
  {
   "cell_type": "code",
   "execution_count": 37,
   "metadata": {},
   "outputs": [
    {
     "data": {
      "text/plain": [
       "4111"
      ]
     },
     "execution_count": 37,
     "metadata": {},
     "output_type": "execute_result"
    }
   ],
   "source": [
    "df_aviones['lugar_impacto'].nunique()"
   ]
  },
  {
   "cell_type": "code",
   "execution_count": 38,
   "metadata": {},
   "outputs": [
    {
     "data": {
      "text/plain": [
       "(4991, 9)"
      ]
     },
     "execution_count": 38,
     "metadata": {},
     "output_type": "execute_result"
    }
   ],
   "source": [
    "df_aviones.shape"
   ]
  },
  {
   "cell_type": "code",
   "execution_count": 39,
   "metadata": {},
   "outputs": [
    {
     "data": {
      "text/plain": [
       "Aeroflot                             253\n",
       "Military - U.S. Air Force            141\n",
       "Air France                            73\n",
       "Deutsche Lufthansa                    63\n",
       "United Air Lines                      44\n",
       "                                    ... \n",
       "Jet Avia Charter                       1\n",
       "S.A.M. Società Aerea Mediterranea      1\n",
       "Atlantic City Airlines                 1\n",
       "Inair Panama                           1\n",
       "Kamchatka Aviation Enterprise          1\n",
       "Name: operador, Length: 2262, dtype: int64"
      ]
     },
     "execution_count": 39,
     "metadata": {},
     "output_type": "execute_result"
    }
   ],
   "source": [
    "df_aviones['operador'].value_counts()"
   ]
  },
  {
   "cell_type": "code",
   "execution_count": 40,
   "metadata": {},
   "outputs": [
    {
     "data": {
      "text/plain": [
       "?                             748\n",
       "Training                       96\n",
       "Sightseeing                    31\n",
       "Test flight                    23\n",
       "Sao Paulo - Rio de Janeiro      7\n",
       "Test                            6\n",
       "Rio de Janeiro - Sao Paulo      5\n",
       "Demonstration                   4\n",
       "Paris - London                  4\n",
       "Huambo - Luanda                 4\n",
       "Name: ruta, dtype: int64"
      ]
     },
     "execution_count": 40,
     "metadata": {},
     "output_type": "execute_result"
    }
   ],
   "source": [
    "df_aviones['ruta'].value_counts().head(10)"
   ]
  },
  {
   "cell_type": "code",
   "execution_count": 41,
   "metadata": {},
   "outputs": [
    {
     "data": {
      "text/plain": [
       "3838"
      ]
     },
     "execution_count": 41,
     "metadata": {},
     "output_type": "execute_result"
    }
   ],
   "source": [
    "df_aviones['ruta'].nunique()"
   ]
  },
  {
   "cell_type": "code",
   "execution_count": 42,
   "metadata": {},
   "outputs": [
    {
     "data": {
      "text/html": [
       "<div>\n",
       "<style scoped>\n",
       "    .dataframe tbody tr th:only-of-type {\n",
       "        vertical-align: middle;\n",
       "    }\n",
       "\n",
       "    .dataframe tbody tr th {\n",
       "        vertical-align: top;\n",
       "    }\n",
       "\n",
       "    .dataframe thead th {\n",
       "        text-align: right;\n",
       "    }\n",
       "</style>\n",
       "<table border=\"1\" class=\"dataframe\">\n",
       "  <thead>\n",
       "    <tr style=\"text-align: right;\">\n",
       "      <th></th>\n",
       "      <th>lugar_impacto</th>\n",
       "    </tr>\n",
       "  </thead>\n",
       "  <tbody>\n",
       "    <tr>\n",
       "      <th>84</th>\n",
       "      <td>Russia</td>\n",
       "    </tr>\n",
       "  </tbody>\n",
       "</table>\n",
       "</div>"
      ],
      "text/plain": [
       "   lugar_impacto\n",
       "84        Russia"
      ]
     },
     "execution_count": 42,
     "metadata": {},
     "output_type": "execute_result"
    }
   ],
   "source": [
    "df_aviones[(df_aviones['lugar_impacto']=='Russia')][['lugar_impacto']]"
   ]
  },
  {
   "cell_type": "code",
   "execution_count": 43,
   "metadata": {},
   "outputs": [
    {
     "data": {
      "text/plain": [
       "0                      Fort Myer, Virginia\n",
       "1                  Juvisy-sur-Orge, France\n",
       "2                Atlantic City, New Jersey\n",
       "3       Victoria, British Columbia, Canada\n",
       "4                       Over the North Sea\n",
       "                       ...                \n",
       "4986                    Near Butte, Alaska\n",
       "4987                  Near Kaduna, Nigeria\n",
       "4988            Near Pyin Oo Lwin, Myanmar\n",
       "4989            Patikul, Sulu, Philippines\n",
       "4990                        Palana, Russia\n",
       "Name: lugar_impacto, Length: 4991, dtype: object"
      ]
     },
     "execution_count": 43,
     "metadata": {},
     "output_type": "execute_result"
    }
   ],
   "source": [
    "df_aviones['lugar_impacto']"
   ]
  },
  {
   "cell_type": "code",
   "execution_count": 44,
   "metadata": {},
   "outputs": [
    {
     "data": {
      "text/plain": [
       "fecha                                 2001-09-11 00:00:00\n",
       "hora_declarada                                      09:03\n",
       "lugar_impacto                     New York City, New York\n",
       "operador                                 United Air Lines\n",
       "ruta                                 Boston - Los Angeles\n",
       "aeronave                                 Boeing B-767-222\n",
       "personas_a_bordo                                       65\n",
       "cantidad_fallecidos                                    65\n",
       "personas_no_a_bordo_fallecidas                       2750\n",
       "Name: 4330, dtype: object"
      ]
     },
     "execution_count": 44,
     "metadata": {},
     "output_type": "execute_result"
    }
   ],
   "source": [
    "df_aviones.iloc[4330]"
   ]
  },
  {
   "attachments": {},
   "cell_type": "markdown",
   "metadata": {},
   "source": [
    "## EDA"
   ]
  },
  {
   "attachments": {},
   "cell_type": "markdown",
   "metadata": {},
   "source": [
    "Analizar la incidencia de accidentes según el año, para el cual generamos una columna más al dataframe"
   ]
  },
  {
   "cell_type": "code",
   "execution_count": 45,
   "metadata": {},
   "outputs": [],
   "source": [
    "df_aviones['anio']=df_aviones['fecha'].dt.year"
   ]
  },
  {
   "cell_type": "code",
   "execution_count": 46,
   "metadata": {},
   "outputs": [
    {
     "data": {
      "image/png": "[encoded data removed]",
      "text/plain": [
       "<Figure size 1500x600 with 1 Axes>"
      ]
     },
     "metadata": {},
     "output_type": "display_data"
    }
   ],
   "source": [
    "#Graficar total de accidentes por año\n",
    "accidentes_por_anio = df_aviones.groupby(df_aviones.anio)[['anio']].count()\n",
    "plt.figure(figsize= (15, 6))\n",
    "color_rojo_suave = (1, 0.6, 0.6)\n",
    "plt.plot(accidentes_por_anio.index, accidentes_por_anio['anio'], marker= '.', color=color_rojo_suave)\n",
    "plt.xlabel('Años', fontsize=13.5)\n",
    "plt.ylabel('Total de accidentes',fontsize=13.5)\n",
    "plt.title('Total de accidentes por año', loc='center', fontsize=18)\n",
    "plt.show()"
   ]
  },
  {
   "cell_type": "code",
   "execution_count": 47,
   "metadata": {},
   "outputs": [],
   "source": [
    "df_aviones['personas_a_bordo']=df_aviones['personas_a_bordo'].astype(int)\n",
    "df_aviones['cantidad_fallecidos']=df_aviones['cantidad_fallecidos'].astype(int)"
   ]
  },
  {
   "cell_type": "code",
   "execution_count": 48,
   "metadata": {},
   "outputs": [
    {
     "data": {
      "image/png": "[encoded data removed]",
      "text/plain": [
       "<Figure size 1500x700 with 1 Axes>"
      ]
     },
     "metadata": {},
     "output_type": "display_data"
    }
   ],
   "source": [
    "#Graficar total de fallecidos por año\n",
    "plt.figure(figsize= (15, 7))\n",
    "anios = df_aviones['anio']\n",
    "fallecidos=df_aviones['cantidad_fallecidos']\n",
    "color_rojo_suave = (1, 0.6, 0.6)\n",
    "plt.plot(fallecidos, anios, '.',color=color_rojo_suave)\n",
    "plt.xlabel('Cantidad de fallecidos',fontsize=13.5)\n",
    "plt.ylabel('Años',fontsize=13.5)\n",
    "plt.title('Total de fallecidos por año',fontsize=18)\n",
    "plt.show()"
   ]
  },
  {
   "cell_type": "code",
   "execution_count": 49,
   "metadata": {},
   "outputs": [],
   "source": [
    "df_aviones['supervivientes']=df_aviones['personas_a_bordo']-df_aviones['cantidad_fallecidos']"
   ]
  },
  {
   "cell_type": "code",
   "execution_count": 50,
   "metadata": {},
   "outputs": [
    {
     "name": "stdout",
     "output_type": "stream",
     "text": [
      "<class 'pandas.core.frame.DataFrame'>\n",
      "RangeIndex: 4991 entries, 0 to 4990\n",
      "Data columns (total 11 columns):\n",
      " #   Column                          Non-Null Count  Dtype         \n",
      "---  ------                          --------------  -----         \n",
      " 0   fecha                           4991 non-null   datetime64[ns]\n",
      " 1   hora_declarada                  4991 non-null   object        \n",
      " 2   lugar_impacto                   4991 non-null   object        \n",
      " 3   operador                        4991 non-null   object        \n",
      " 4   ruta                            4991 non-null   object        \n",
      " 5   aeronave                        4991 non-null   object        \n",
      " 6   personas_a_bordo                4991 non-null   int32         \n",
      " 7   cantidad_fallecidos             4991 non-null   int32         \n",
      " 8   personas_no_a_bordo_fallecidas  4991 non-null   object        \n",
      " 9   anio                            4991 non-null   int64         \n",
      " 10  supervivientes                  4991 non-null   int32         \n",
      "dtypes: datetime64[ns](1), int32(3), int64(1), object(6)\n",
      "memory usage: 370.6+ KB\n"
     ]
    }
   ],
   "source": [
    "df_aviones.info()"
   ]
  },
  {
   "cell_type": "code",
   "execution_count": 51,
   "metadata": {},
   "outputs": [
    {
     "data": {
      "text/plain": [
       "Index(['fecha', 'hora_declarada', 'lugar_impacto', 'operador', 'ruta',\n",
       "       'aeronave', 'personas_a_bordo', 'cantidad_fallecidos',\n",
       "       'personas_no_a_bordo_fallecidas', 'anio', 'supervivientes'],\n",
       "      dtype='object')"
      ]
     },
     "execution_count": 51,
     "metadata": {},
     "output_type": "execute_result"
    }
   ],
   "source": [
    "df_aviones.columns"
   ]
  },
  {
   "cell_type": "code",
   "execution_count": 52,
   "metadata": {},
   "outputs": [
    {
     "data": {
      "image/png": "[encoded data removed]",
      "text/plain": [
       "<Figure size 600x500 with 1 Axes>"
      ]
     },
     "metadata": {},
     "output_type": "display_data"
    }
   ],
   "source": [
    "plt.figure(figsize=(6,5))\n",
    "personas_abordo= df_aviones.personas_a_bordo.sum()\n",
    "personas_abordo_fallecidas = df_aviones.cantidad_fallecidos.sum()\n",
    "supervivientes = personas_abordo - personas_abordo_fallecidas\n",
    "\n",
    "y = np.array([personas_abordo_fallecidas, supervivientes])\n",
    "mylabels = [\"Personas fallecidas\", \"Surpervivientes\"]\n",
    "color_verde_suave = (0.6, 0.8, 0.6)\n",
    "color_rojo_suave = (1, 0.6, 0.6)\n",
    "colores=[color_rojo_suave,color_verde_suave]\n",
    "plt.pie(y, labels = mylabels, colors=colores, autopct='%1.1f%%')\n",
    "plt.show()"
   ]
  },
  {
   "cell_type": "code",
   "execution_count": 53,
   "metadata": {},
   "outputs": [
    {
     "data": {
      "text/plain": [
       "Index(['fecha', 'hora_declarada', 'lugar_impacto', 'operador', 'ruta',\n",
       "       'aeronave', 'personas_a_bordo', 'cantidad_fallecidos',\n",
       "       'personas_no_a_bordo_fallecidas', 'anio', 'supervivientes'],\n",
       "      dtype='object')"
      ]
     },
     "execution_count": 53,
     "metadata": {},
     "output_type": "execute_result"
    }
   ],
   "source": [
    "df_aviones.columns"
   ]
  },
  {
   "cell_type": "code",
   "execution_count": 54,
   "metadata": {},
   "outputs": [
    {
     "data": {
      "text/html": [
       "<div>\n",
       "<style scoped>\n",
       "    .dataframe tbody tr th:only-of-type {\n",
       "        vertical-align: middle;\n",
       "    }\n",
       "\n",
       "    .dataframe tbody tr th {\n",
       "        vertical-align: top;\n",
       "    }\n",
       "\n",
       "    .dataframe thead th {\n",
       "        text-align: right;\n",
       "    }\n",
       "</style>\n",
       "<table border=\"1\" class=\"dataframe\">\n",
       "  <thead>\n",
       "    <tr style=\"text-align: right;\">\n",
       "      <th></th>\n",
       "      <th>cantidad_fallecidos</th>\n",
       "    </tr>\n",
       "    <tr>\n",
       "      <th>aeronave</th>\n",
       "      <th></th>\n",
       "    </tr>\n",
       "  </thead>\n",
       "  <tbody>\n",
       "    <tr>\n",
       "      <th>Douglas DC-3</th>\n",
       "      <td>4699</td>\n",
       "    </tr>\n",
       "    <tr>\n",
       "      <th>Douglas C-47</th>\n",
       "      <td>1059</td>\n",
       "    </tr>\n",
       "    <tr>\n",
       "      <th>Douglas DC-6B</th>\n",
       "      <td>1051</td>\n",
       "    </tr>\n",
       "    <tr>\n",
       "      <th>Antonov AN-26</th>\n",
       "      <td>1038</td>\n",
       "    </tr>\n",
       "    <tr>\n",
       "      <th>Ilyushin IL-18B</th>\n",
       "      <td>1008</td>\n",
       "    </tr>\n",
       "    <tr>\n",
       "      <th>Douglas DC-4</th>\n",
       "      <td>972</td>\n",
       "    </tr>\n",
       "    <tr>\n",
       "      <th>McDonnell Douglas DC-9-32</th>\n",
       "      <td>953</td>\n",
       "    </tr>\n",
       "    <tr>\n",
       "      <th>de Havilland Canada DHC-6 Twin Otter 300</th>\n",
       "      <td>810</td>\n",
       "    </tr>\n",
       "    <tr>\n",
       "      <th>Tupolev TU-134A</th>\n",
       "      <td>807</td>\n",
       "    </tr>\n",
       "    <tr>\n",
       "      <th>McDonnell Douglas DC-10-10</th>\n",
       "      <td>804</td>\n",
       "    </tr>\n",
       "    <tr>\n",
       "      <th>Yakovlev YAK-40</th>\n",
       "      <td>779</td>\n",
       "    </tr>\n",
       "    <tr>\n",
       "      <th>Lockheed C-130H</th>\n",
       "      <td>773</td>\n",
       "    </tr>\n",
       "    <tr>\n",
       "      <th>McDonnell Douglas MD-82</th>\n",
       "      <td>695</td>\n",
       "    </tr>\n",
       "    <tr>\n",
       "      <th>Tupolev TU-154B</th>\n",
       "      <td>693</td>\n",
       "    </tr>\n",
       "    <tr>\n",
       "      <th>Antonov AN-24</th>\n",
       "      <td>664</td>\n",
       "    </tr>\n",
       "    <tr>\n",
       "      <th>Tupolev TU-154M</th>\n",
       "      <td>640</td>\n",
       "    </tr>\n",
       "    <tr>\n",
       "      <th>Boeing B-747-121 / Boeing B-747-206B</th>\n",
       "      <td>583</td>\n",
       "    </tr>\n",
       "    <tr>\n",
       "      <th>Douglas C-47A</th>\n",
       "      <td>576</td>\n",
       "    </tr>\n",
       "    <tr>\n",
       "      <th>Ilyushin IL-18</th>\n",
       "      <td>562</td>\n",
       "    </tr>\n",
       "    <tr>\n",
       "      <th>Ilyushin IL-18D</th>\n",
       "      <td>549</td>\n",
       "    </tr>\n",
       "    <tr>\n",
       "      <th>Ilyushin IL-62</th>\n",
       "      <td>543</td>\n",
       "    </tr>\n",
       "    <tr>\n",
       "      <th>Boeing B-747-237B</th>\n",
       "      <td>542</td>\n",
       "    </tr>\n",
       "    <tr>\n",
       "      <th>Tupolev TU-104B</th>\n",
       "      <td>540</td>\n",
       "    </tr>\n",
       "    <tr>\n",
       "      <th>McDonnell Douglas DC-10-30</th>\n",
       "      <td>523</td>\n",
       "    </tr>\n",
       "    <tr>\n",
       "      <th>Boeing B-747-SR46</th>\n",
       "      <td>520</td>\n",
       "    </tr>\n",
       "    <tr>\n",
       "      <th>Tupolev TU-104A</th>\n",
       "      <td>510</td>\n",
       "    </tr>\n",
       "  </tbody>\n",
       "</table>\n",
       "</div>"
      ],
      "text/plain": [
       "                                          cantidad_fallecidos\n",
       "aeronave                                                     \n",
       "Douglas DC-3                                             4699\n",
       "Douglas C-47                                             1059\n",
       "Douglas DC-6B                                            1051\n",
       "Antonov AN-26                                            1038\n",
       "Ilyushin IL-18B                                          1008\n",
       "Douglas DC-4                                              972\n",
       "McDonnell Douglas DC-9-32                                 953\n",
       "de Havilland Canada DHC-6 Twin Otter 300                  810\n",
       "Tupolev TU-134A                                           807\n",
       "McDonnell Douglas DC-10-10                                804\n",
       "Yakovlev YAK-40                                           779\n",
       "Lockheed C-130H                                           773\n",
       "McDonnell Douglas MD-82                                   695\n",
       "Tupolev TU-154B                                           693\n",
       "Antonov AN-24                                             664\n",
       "Tupolev TU-154M                                           640\n",
       "Boeing B-747-121 / Boeing B-747-206B                      583\n",
       "Douglas C-47A                                             576\n",
       "Ilyushin IL-18                                            562\n",
       "Ilyushin IL-18D                                           549\n",
       "Ilyushin IL-62                                            543\n",
       "Boeing B-747-237B                                         542\n",
       "Tupolev TU-104B                                           540\n",
       "McDonnell Douglas DC-10-30                                523\n",
       "Boeing B-747-SR46                                         520\n",
       "Tupolev TU-104A                                           510"
      ]
     },
     "execution_count": 54,
     "metadata": {},
     "output_type": "execute_result"
    }
   ],
   "source": [
    "df_aeronaves_accidentes = df_aviones.groupby('aeronave')[['cantidad_fallecidos']].sum()\n",
    "df_aeronaves_accidentes = df_aeronaves_accidentes.rename(columns={'aeronave': 'cantidad_fallecidos'})\n",
    "df_aeronaves_accidentes = df_aeronaves_accidentes.sort_values(by='cantidad_fallecidos', ascending=False)\n",
    "df_aeronaves_accidentes_top = df_aeronaves_accidentes[df_aeronaves_accidentes['cantidad_fallecidos'] > 500]\n",
    "df_aeronaves_accidentes_top"
   ]
  },
  {
   "cell_type": "code",
   "execution_count": 55,
   "metadata": {},
   "outputs": [
    {
     "data": {
      "image/png": "[encoded data removed]",
      "text/plain": [
       "<Figure size 1500x500 with 1 Axes>"
      ]
     },
     "metadata": {},
     "output_type": "display_data"
    }
   ],
   "source": [
    "plt.figure(figsize=(15, 5))\n",
    "sns.barplot(y=df_aeronaves_accidentes_top.index, x=\"cantidad_fallecidos\", data=df_aeronaves_accidentes_top, palette=\"bright\")\n",
    "plt.xlabel('Total de personas fallecidas a bordo',fontsize=13.5)\n",
    "plt.ylabel('Modelo de aeronave',fontsize=13.5)\n",
    "plt.title('Total de personas fallecidas por modelo', fontsize=18 )\n",
    "plt.show()"
   ]
  },
  {
   "cell_type": "code",
   "execution_count": 56,
   "metadata": {},
   "outputs": [
    {
     "data": {
      "text/plain": [
       "cantidad_fallecidos      4699\n",
       "anio                   645791\n",
       "dtype: int64"
      ]
     },
     "execution_count": 56,
     "metadata": {},
     "output_type": "execute_result"
    }
   ],
   "source": [
    "#Observar el modelo con mayor muertes por accidentes\n",
    "df_aviones[(df_aviones['aeronave']=='Douglas DC-3')][['cantidad_fallecidos','anio']].sum()"
   ]
  },
  {
   "cell_type": "code",
   "execution_count": 57,
   "metadata": {},
   "outputs": [],
   "source": [
    "pd.DataFrame(df_aviones).to_csv('datasets/accidentes_trans.csv', index=False)"
   ]
  }
 ],
 "metadata": {
  "kernelspec": {
   "display_name": "Python 3",
   "language": "python",
   "name": "python3"
  },
  "language_info": {
   "codemirror_mode": {
    "name": "ipython",
    "version": 3
   },
   "file_extension": ".py",
   "mimetype": "text/x-python",
   "name": "python",
   "nbconvert_exporter": "python",
   "pygments_lexer": "ipython3",
   "version": "3.10.11"
  },
  "orig_nbformat": 4
 },
 "nbformat": 4,
 "nbformat_minor": 2
}
